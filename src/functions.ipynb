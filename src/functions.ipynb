{
 "cells": [
  {
   "cell_type": "code",
   "execution_count": 31,
   "metadata": {},
   "outputs": [],
   "source": [
    "import re\n",
    "from icalendar import Calendar, Event\n",
    "import datetime as dt\n",
    "import os\n",
    "\n",
    "\n",
    "def convert_curly_to_straight_quotes(text):\n",
    "    text = text.replace('“', '\"')\n",
    "    text = text.replace('”', '\"')\n",
    "    return(text)\n",
    "\n",
    "\n",
    "\n",
    "def extract_title_from_quotes(text):\n",
    "    \n",
    "    text = convert_curly_to_straight_quotes(text)\n",
    "    pattern = r'\"([\\s\\S]*?)\"'\n",
    "    m = re.findall(pattern, text)\n",
    "    title = str(m).replace(\"\\\\n\", \" \")\n",
    "    title = str(title).replace(\"['\", \"\")\n",
    "    title = str(title).replace(\"']\", \"\")\n",
    "    print(title)\n",
    "    return(title)\n",
    "\n",
    "def extract_date(text):\n",
    "    meses = [\"janeiro\", \"fevereiro\", \"março\", \"abril\", \"maio\", \"junho\", \"julho\", \"agosto\", \"setembro\", \"outubro\", \"novembro\", \"dezembro\"]\n",
    "\n",
    "    for index , mes in enumerate(meses):\n",
    "        if mes in phrase:\n",
    "            mes_n = index + 1\n",
    "            inicio_mes = phrase.find(mes) \n",
    "            dia = re.findall(r'\\d+',phrase[inicio_mes-6:inicio_mes-4])[0]\n",
    "        elif  \"Data\" in phrase:\n",
    "            data_index = phrase.find(\"Data: \")\n",
    "            dia = int(phrase[data_index+6:data_index+8])\n",
    "            mes_n = int(phrase[data_index+9:data_index+11])\n",
    "        else:\n",
    "        #######\n",
    "            pattern_dia = r'([0-9][0-9])/'\n",
    "            dia = re.findall(pattern_dia, event)\n",
    "            if dia:\n",
    "                dia = int(dia[0])\n",
    "        #######\n",
    "            pattern_mes = r'/([0-9][0-9])'\n",
    "            mes_n = re.findall(pattern_mes, event)\n",
    "            if mes_n:\n",
    "                mes_n = int(mes_n[0])\n",
    "                \n",
    "    if phrase.find('2019'):\n",
    "        ano = \"2019\"\n",
    "    elif phrase.find('2020'):\n",
    "        ano = \"2020\"\n",
    "    \n",
    "    return(int(dia), int(mes_n), int(ano))\n",
    "\n",
    "\n",
    "## Extrac time based on a dangling \"h\"\n",
    "\n",
    "def extract_time(text):\n",
    "    h_solto = phrase.find(\" h\\n\")\n",
    "    \n",
    "    if h_solto != -1:\n",
    "        horario = str(phrase[h_solto-2:h_solto])\n",
    "    else:\n",
    "        pattern = r'([0-9][0-9])h'\n",
    "        horario = int(re.findall(pattern, phrase)[0])\n",
    "    \n",
    "    print(horario)\n",
    "    return(int(horario))\n",
    "\n",
    "\n",
    "def extract_place(text):\n",
    "    locais = ['anfiteatro', 'auditório', 'auditorio']\n",
    "\n",
    "    for index , local in enumerate(locais):\n",
    "        if local in phrase.lower():\n",
    "            inicio_local = phrase.lower().find(local)\n",
    "            fim_local = phrase.lower().find(\"\\n\", inicio_local)\n",
    "            local_final = phrase[inicio_local : fim_local]\n",
    "\n",
    "    return(local_final)\n",
    "\n",
    "\n",
    "\n",
    "\n",
    "\n",
    "def make_event( title, place, day, month, year, hour, minute, text = \"\", link = \"\"):\n",
    "    \n",
    "    event_start = dt.datetime(year, month, day, hour, minute, 0)\n",
    "    event_end = dt.datetime(year, month, day, hour + 1, minute, 0)\n",
    "    \n",
    "    evento = Event()\n",
    "    evento.add('dtstart', event_start)\n",
    "    evento.add('dtend', event_end)\n",
    "    evento.add('summary', title )\n",
    "    evento.add('location', place)\n",
    "    evento.add('description', title + \"\\n\" + link + \"\\n\" + text)\n",
    "    return(evento)\n",
    "\n",
    "\n",
    "\n",
    "def magic_extract_event(phrase):\n",
    "    title = extract_title_from_quotes(phrase)\n",
    "    day, month, year = extract_date(phrase)\n",
    "    hour = extract_time(phrase)\n",
    "    place = extract_place(phrase)\n",
    "    return(make_event(title,place,day,month,year,hour, minute = 0, text = phrase))\n",
    "\n",
    "\n",
    "def export_event(event, directory = \".\", name = \"example.ics\"):\n",
    "    cal = Calendar()\n",
    "    cal.add_component(event)\n",
    "    f = open(os.path.join(directory, name), 'wb')\n",
    "    f.write(cal.to_ical())\n",
    "    f.close()\n"
   ]
  },
  {
   "cell_type": "code",
   "execution_count": 32,
   "metadata": {},
   "outputs": [
    {
     "name": "stdout",
     "output_type": "stream",
     "text": [
      "IB-R Users Convida:\n",
      "\n",
      "\"Reprodutibilidade e boas práticas em R\"\n",
      "\n",
      "SL\n",
      "Dá GitHub\n",
      "\n",
      "Data: 22/11\n",
      "Horário: 13h\n",
      "Local: Auditório 1 do CD\n",
      "\n",
      " \n",
      "\n",
      "André Fonseca\n",
      "\n",
      "Pós Doc\n",
      "Departamento de Genética e Biologia Evolutiva\n",
      "Reprodutibilidade e boas práticas em R\n",
      "13\n"
     ]
    }
   ],
   "source": [
    "import pytesseract as ocr\n",
    "\n",
    "from PIL import Image\n",
    "\n",
    "\n",
    "phrase = ocr.image_to_string(Image.open('../data/andre.jpeg'), lang='por')\n",
    "print(phrase)\n",
    "\n",
    "event = magic_extract_event(phrase)\n",
    "\n",
    "export_event(event)"
   ]
  },
  {
   "cell_type": "code",
   "execution_count": 4,
   "metadata": {},
   "outputs": [
    {
     "name": "stdout",
     "output_type": "stream",
     "text": [
      "Qual é afinal a relação entre Filosofia e Ciências Biológicas?\n"
     ]
    }
   ],
   "source": []
  },
  {
   "cell_type": "code",
   "execution_count": 5,
   "metadata": {},
   "outputs": [],
   "source": []
  },
  {
   "cell_type": "code",
   "execution_count": 6,
   "metadata": {},
   "outputs": [
    {
     "name": "stdout",
     "output_type": "stream",
     "text": [
      "15\n"
     ]
    }
   ],
   "source": []
  },
  {
   "cell_type": "code",
   "execution_count": 7,
   "metadata": {},
   "outputs": [],
   "source": []
  },
  {
   "cell_type": "code",
   "execution_count": 8,
   "metadata": {},
   "outputs": [
    {
     "data": {
      "text/plain": [
       "Event([('DTSTART', <icalendar.prop.vDDDTypes at 0x7f8174907b38>),\n",
       "       ('DTEND', <icalendar.prop.vDDDTypes at 0x7f8174907828>),\n",
       "       ('SUMMARY',\n",
       "        vText('b'Qual \\xc3\\xa9 afinal a rela\\xc3\\xa7\\xc3\\xa3o entre Filosofia e Ci\\xc3\\xaancias Biol\\xc3\\xb3gicas?'')),\n",
       "       ('LOCATION', vText('b'Anfiteatro Geral da Bot\\xc3\\xa2nica'')),\n",
       "       ('DESCRIPTION',\n",
       "        vText('b'Qual \\xc3\\xa9 afinal a rela\\xc3\\xa7\\xc3\\xa3o entre Filosofia e Ci\\xc3\\xaancias Biol\\xc3\\xb3gicas?\\\\n\\\\nUMA VIS\\xc3\\x83O INTERDISCIPLINAR\\\\n\\\\n0\\\\,\\\\na] T\\xc3\\x93PICOS ATUAIS DA RELA\\xc3\\x87\\xc3\\x83O ENTRE\\\\nFILOSOFIA E CI\\xc3\\x8aNCIAS BIOL\\xc3\\x93GICAS:\\\\n\\\\n \\\\n\\\\nMaur\\xc3\\xadcio Ramos (FFLCH/USP)\\\\nFrancisco R\\xc3\\xb4mulo Ferreira (UFRJ)\\\\n\\\\n\\xe2\\x80\\x9cQual \\xc3\\xa9 afinal a rela\\xc3\\xa7\\xc3\\xa3o entre Filosofia e\\\\nCi\\xc3\\xaancias Biol\\xc3\\xb3gicas?\\xe2\\x80\\x9d\\\\n\\\\n \\\\n\\\\nQuinta-feira\\\\, 31 de outubro de 2019\\\\, 15 h\\\\n\\\\nAnfiteatro Geral da Bot\\xc3\\xa2nica\\\\nInstituto de Bioci\\xc3\\xaancias - Universidade de S\\xc3\\xa3o Paulo''))])"
      ]
     },
     "execution_count": 8,
     "metadata": {},
     "output_type": "execute_result"
    }
   ],
   "source": [
    " = phrase)"
   ]
  },
  {
   "cell_type": "code",
   "execution_count": 9,
   "metadata": {},
   "outputs": [
    {
     "name": "stdout",
     "output_type": "stream",
     "text": [
      "Qual é afinal a relação entre Filosofia e Ciências Biológicas?\n",
      "15\n"
     ]
    }
   ],
   "source": []
  },
  {
   "cell_type": "code",
   "execution_count": 10,
   "metadata": {},
   "outputs": [],
   "source": []
  },
  {
   "cell_type": "code",
   "execution_count": 11,
   "metadata": {},
   "outputs": [
    {
     "name": "stdout",
     "output_type": "stream",
     "text": [
      "UMA VISÃO INTERDISCIPLINAR\n",
      "\n",
      "0,\n",
      "| TÓPICOS ATUAIS DA RELAÇÃO ENTRE\n",
      "FILOSOFIA E CIÊNCIAS. BIOLÓGICAS:\n",
      "\n",
      " \n",
      "\n",
      "Igor Cesarino (Depto Botânica - IBUSP)\n",
      "Dalton Ramos (FO - USP)\n",
      "\n",
      "“A Biologia enquanto ciência\n",
      "fundamental: aplicações tecnológicas\n",
      "e na área da saúde”\n",
      "\n",
      "pa oO s\n",
      "q sa & E\n",
      "TSM = a S Z\n",
      "5S HISTÓRIA & õ\n",
      "ss FINANCIAMENTO O\n",
      "dj SOCIEDADE , & 2\n",
      "8 o TICA = 5\n",
      "E 2 TECNOLOGIA ciência O\n",
      "O\n",
      "£ E FILOSOFIA BIOLOGIA G\n",
      "O «SAÚDE INOVAÇÃO <\n",
      "ste E NOVAÇÃO G 4º\n",
      "& O E ESTRATÉGIA < E cg\n",
      "%z g o DS\n",
      "WS ú Q Tg”\n",
      "E) uy ã s\n",
      "o o 8 é\n",
      "SS º m É\n",
      "> Quinta-feira, “4 de novembro de 2019,15h\n",
      "Anfiteatro Geral da Botânica\n",
      "\n",
      "Instituto de Biociências - Universidade de São Paulo\n"
     ]
    }
   ],
   "source": [
    "import pytesseract as ocr\n",
    "\n",
    "from PIL import Image\n",
    "\n",
    "\n",
    "phrase = ocr.image_to_string(Image.open('../data/PALESTRA1411.png'), lang='por')\n",
    "print(phrase)"
   ]
  },
  {
   "cell_type": "code",
   "execution_count": 12,
   "metadata": {},
   "outputs": [
    {
     "name": "stdout",
     "output_type": "stream",
     "text": [
      "A Biologia enquanto ciência fundamental: aplicações tecnológicas e na área da saúde\n",
      "15\n"
     ]
    }
   ],
   "source": [
    "event = magic_extract_event(phrase)"
   ]
  },
  {
   "cell_type": "code",
   "execution_count": 13,
   "metadata": {},
   "outputs": [
    {
     "name": "stdout",
     "output_type": "stream",
     "text": [
      "VEVENT({'DTSTART': <icalendar.prop.vDDDTypes object at 0x7f8174907f60>, 'DTEND': <icalendar.prop.vDDDTypes object at 0x7f8174907518>, 'SUMMARY': vText('b'A Biologia enquanto ci\\xc3\\xaancia fundamental: aplica\\xc3\\xa7\\xc3\\xb5es tecnol\\xc3\\xb3gicas e na \\xc3\\xa1rea da sa\\xc3\\xbade''), 'LOCATION': vText('b'Anfiteatro Geral da Bot\\xc3\\xa2nica''), 'DESCRIPTION': vText('b'A Biologia enquanto ci\\xc3\\xaancia fundamental: aplica\\xc3\\xa7\\xc3\\xb5es tecnol\\xc3\\xb3gicas e na \\xc3\\xa1rea da sa\\xc3\\xbade\\\\n\\\\nUMA VIS\\xc3\\x83O INTERDISCIPLINAR\\\\n\\\\n0\\\\,\\\\n| T\\xc3\\x93PICOS ATUAIS DA RELA\\xc3\\x87\\xc3\\x83O ENTRE\\\\nFILOSOFIA E CI\\xc3\\x8aNCIAS. BIOL\\xc3\\x93GICAS:\\\\n\\\\n \\\\n\\\\nIgor Cesarino (Depto Bot\\xc3\\xa2nica - IBUSP)\\\\nDalton Ramos (FO - USP)\\\\n\\\\n\\xe2\\x80\\x9cA Biologia enquanto ci\\xc3\\xaancia\\\\nfundamental: aplica\\xc3\\xa7\\xc3\\xb5es tecnol\\xc3\\xb3gicas\\\\ne na \\xc3\\xa1rea da sa\\xc3\\xbade\\xe2\\x80\\x9d\\\\n\\\\npa oO s\\\\nq sa & E\\\\nTSM = a S Z\\\\n5S HIST\\xc3\\x93RIA & \\xc3\\xb5\\\\nss FINANCIAMENTO O\\\\ndj SOCIEDADE \\\\, & 2\\\\n8 o TICA = 5\\\\nE 2 TECNOLOGIA ci\\xc3\\xaancia O\\\\nO\\\\n\\xc2\\xa3 E FILOSOFIA BIOLOGIA G\\\\nO \\xc2\\xabSA\\xc3\\x9aDE INOVA\\xc3\\x87\\xc3\\x83O <\\\\nste E NOVA\\xc3\\x87\\xc3\\x83O G 4\\xc2\\xba\\\\n& O E ESTRAT\\xc3\\x89GIA < E cg\\\\n%z g o DS\\\\nWS \\xc3\\xba Q Tg\\xe2\\x80\\x9d\\\\nE) uy \\xc3\\xa3 s\\\\no o 8 \\xc3\\xa9\\\\nSS \\xc2\\xba m \\xc3\\x89\\\\n> Quinta-feira\\\\, \\xe2\\x80\\x9c4 de novembro de 2019\\\\,15h\\\\nAnfiteatro Geral da Bot\\xc3\\xa2nica\\\\n\\\\nInstituto de Bioci\\xc3\\xaancias - Universidade de S\\xc3\\xa3o Paulo'')})\n"
     ]
    }
   ],
   "source": [
    "print(event)"
   ]
  },
  {
   "cell_type": "code",
   "execution_count": 14,
   "metadata": {},
   "outputs": [],
   "source": [
    "export_event(event, name=\"test.ics\")"
   ]
  },
  {
   "cell_type": "code",
   "execution_count": 15,
   "metadata": {},
   "outputs": [
    {
     "name": "stdout",
     "output_type": "stream",
     "text": [
      "A Biologia enquanto ciência fundamental: aplicações tecnológicas e na área da saúde\n",
      "15\n"
     ]
    }
   ],
   "source": [
    "    title = extract_title_from_quotes(phrase)\n",
    "    day, month, year = extract_date(phrase)\n",
    "    hour = extract_time(phrase)\n",
    "    place = extract_place(phrase)\n",
    "    \n",
    "    \n",
    "    day =14\n",
    "    export_event(make_event(title,place,day,month,year,hour, minute = 0, text = phrase), name=\"test.ics\")"
   ]
  },
  {
   "cell_type": "code",
   "execution_count": 18,
   "metadata": {},
   "outputs": [
    {
     "name": "stdout",
     "output_type": "stream",
     "text": [
      "IB-R Users Convida:\n",
      "\n",
      "\"Reprodutibilidade e boas práticas em R\"\n",
      "\n",
      "SL\n",
      "Dá GitHub\n",
      "\n",
      "Data: 22/11\n",
      "Horário: 13h\n",
      "Local: Auditório 1 do CD\n",
      "\n",
      " \n",
      "\n",
      "André Fonseca\n",
      "\n",
      "Pós Doc\n",
      "Departamento de Genética e Biologia Evolutiva\n",
      "[]\n"
     ]
    },
    {
     "ename": "NameError",
     "evalue": "name 'data_index' is not defined",
     "output_type": "error",
     "traceback": [
      "\u001b[0;31m---------------------------------------------------------------------------\u001b[0m",
      "\u001b[0;31mNameError\u001b[0m                                 Traceback (most recent call last)",
      "\u001b[0;32m<ipython-input-18-eb9e2ac0ec19>\u001b[0m in \u001b[0;36m<module>\u001b[0;34m()\u001b[0m\n\u001b[1;32m      8\u001b[0m \u001b[0mprint\u001b[0m\u001b[0;34m(\u001b[0m\u001b[0mphrase\u001b[0m\u001b[0;34m)\u001b[0m\u001b[0;34m\u001b[0m\u001b[0m\n\u001b[1;32m      9\u001b[0m \u001b[0;34m\u001b[0m\u001b[0m\n\u001b[0;32m---> 10\u001b[0;31m \u001b[0mevent\u001b[0m \u001b[0;34m=\u001b[0m \u001b[0mmagic_extract_event\u001b[0m\u001b[0;34m(\u001b[0m\u001b[0mphrase\u001b[0m\u001b[0;34m)\u001b[0m\u001b[0;34m\u001b[0m\u001b[0m\n\u001b[0m",
      "\u001b[0;32m<ipython-input-17-4ad57f835a9c>\u001b[0m in \u001b[0;36mmagic_extract_event\u001b[0;34m(phrase)\u001b[0m\n\u001b[1;32m     81\u001b[0m \u001b[0;32mdef\u001b[0m \u001b[0mmagic_extract_event\u001b[0m\u001b[0;34m(\u001b[0m\u001b[0mphrase\u001b[0m\u001b[0;34m)\u001b[0m\u001b[0;34m:\u001b[0m\u001b[0;34m\u001b[0m\u001b[0m\n\u001b[1;32m     82\u001b[0m     \u001b[0mtitle\u001b[0m \u001b[0;34m=\u001b[0m \u001b[0mextract_title_from_quotes\u001b[0m\u001b[0;34m(\u001b[0m\u001b[0mphrase\u001b[0m\u001b[0;34m)\u001b[0m\u001b[0;34m\u001b[0m\u001b[0m\n\u001b[0;32m---> 83\u001b[0;31m     \u001b[0mday\u001b[0m\u001b[0;34m,\u001b[0m \u001b[0mmonth\u001b[0m\u001b[0;34m,\u001b[0m \u001b[0myear\u001b[0m \u001b[0;34m=\u001b[0m \u001b[0mextract_date\u001b[0m\u001b[0;34m(\u001b[0m\u001b[0mphrase\u001b[0m\u001b[0;34m)\u001b[0m\u001b[0;34m\u001b[0m\u001b[0m\n\u001b[0m\u001b[1;32m     84\u001b[0m     \u001b[0mhour\u001b[0m \u001b[0;34m=\u001b[0m \u001b[0mextract_time\u001b[0m\u001b[0;34m(\u001b[0m\u001b[0mphrase\u001b[0m\u001b[0;34m)\u001b[0m\u001b[0;34m\u001b[0m\u001b[0m\n\u001b[1;32m     85\u001b[0m     \u001b[0mplace\u001b[0m \u001b[0;34m=\u001b[0m \u001b[0mextract_place\u001b[0m\u001b[0;34m(\u001b[0m\u001b[0mphrase\u001b[0m\u001b[0;34m)\u001b[0m\u001b[0;34m\u001b[0m\u001b[0m\n",
      "\u001b[0;32m<ipython-input-17-4ad57f835a9c>\u001b[0m in \u001b[0;36mextract_date\u001b[0;34m(text)\u001b[0m\n\u001b[1;32m     23\u001b[0m             \u001b[0mdia\u001b[0m \u001b[0;34m=\u001b[0m \u001b[0mre\u001b[0m\u001b[0;34m.\u001b[0m\u001b[0mfindall\u001b[0m\u001b[0;34m(\u001b[0m\u001b[0;34mr'\\d+'\u001b[0m\u001b[0;34m,\u001b[0m\u001b[0mphrase\u001b[0m\u001b[0;34m[\u001b[0m\u001b[0minicio_mes\u001b[0m\u001b[0;34m-\u001b[0m\u001b[0;36m6\u001b[0m\u001b[0;34m:\u001b[0m\u001b[0minicio_mes\u001b[0m\u001b[0;34m-\u001b[0m\u001b[0;36m4\u001b[0m\u001b[0;34m]\u001b[0m\u001b[0;34m)\u001b[0m\u001b[0;34m[\u001b[0m\u001b[0;36m0\u001b[0m\u001b[0;34m]\u001b[0m\u001b[0;34m\u001b[0m\u001b[0m\n\u001b[1;32m     24\u001b[0m         \u001b[0;32melif\u001b[0m  \u001b[0;34m\"Data\"\u001b[0m \u001b[0;32min\u001b[0m \u001b[0mphrase\u001b[0m\u001b[0;34m:\u001b[0m\u001b[0;34m\u001b[0m\u001b[0m\n\u001b[0;32m---> 25\u001b[0;31m             \u001b[0mdia\u001b[0m \u001b[0;34m=\u001b[0m \u001b[0mint\u001b[0m\u001b[0;34m(\u001b[0m\u001b[0mphrase\u001b[0m\u001b[0;34m[\u001b[0m\u001b[0mdata_index\u001b[0m\u001b[0;34m+\u001b[0m\u001b[0;36m6\u001b[0m\u001b[0;34m:\u001b[0m\u001b[0mdata_index\u001b[0m\u001b[0;34m+\u001b[0m\u001b[0;36m8\u001b[0m\u001b[0;34m]\u001b[0m\u001b[0;34m)\u001b[0m\u001b[0;34m\u001b[0m\u001b[0m\n\u001b[0m\u001b[1;32m     26\u001b[0m             \u001b[0mmes_n\u001b[0m \u001b[0;34m=\u001b[0m \u001b[0mint\u001b[0m\u001b[0;34m(\u001b[0m\u001b[0mphrase\u001b[0m\u001b[0;34m[\u001b[0m\u001b[0mdata_index\u001b[0m\u001b[0;34m+\u001b[0m\u001b[0;36m9\u001b[0m\u001b[0;34m:\u001b[0m\u001b[0mdata_index\u001b[0m\u001b[0;34m+\u001b[0m\u001b[0;36m11\u001b[0m\u001b[0;34m]\u001b[0m\u001b[0;34m)\u001b[0m\u001b[0;34m\u001b[0m\u001b[0m\n\u001b[1;32m     27\u001b[0m \u001b[0;34m\u001b[0m\u001b[0m\n",
      "\u001b[0;31mNameError\u001b[0m: name 'data_index' is not defined"
     ]
    }
   ],
   "source": [
    "\n"
   ]
  },
  {
   "cell_type": "code",
   "execution_count": null,
   "metadata": {},
   "outputs": [],
   "source": []
  }
 ],
 "metadata": {
  "kernelspec": {
   "display_name": "Python 3",
   "language": "python",
   "name": "python3"
  },
  "language_info": {
   "codemirror_mode": {
    "name": "ipython",
    "version": 3
   },
   "file_extension": ".py",
   "mimetype": "text/x-python",
   "name": "python",
   "nbconvert_exporter": "python",
   "pygments_lexer": "ipython3",
   "version": "3.6.5"
  }
 },
 "nbformat": 4,
 "nbformat_minor": 4
}
