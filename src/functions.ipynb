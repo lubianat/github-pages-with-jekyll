{
 "cells": [
  {
   "cell_type": "code",
   "execution_count": 149,
   "metadata": {},
   "outputs": [],
   "source": [
    "import re\n",
    "from icalendar import Calendar, Event\n",
    "import datetime as dt\n",
    "import os\n",
    "\n",
    "def extract_title_from_quotes(text):\n",
    "\n",
    "    pattern = r'“([\\s\\S]*?)”'\n",
    "    m = re.findall(pattern, text)\n",
    "    title = str(m).replace(\"\\\\n\", \" \")\n",
    "    title = str(title).replace(\"['\", \"\")\n",
    "    title = str(title).replace(\"']\", \"\")\n",
    "    print(title)\n",
    "    return(title)\n",
    "\n",
    "def extract_date(text):\n",
    "    meses = [\"janeiro\", \"fevereiro\", \"março\", \"abril\", \"maio\", \"junho\", \"julho\", \"agosto\", \"setembro\", \"outubro\", \"novembro\", \"dezembro\"]\n",
    "\n",
    "    for index , mes in enumerate(meses):\n",
    "        if mes in phrase:\n",
    "            mes_n = index + 1\n",
    "            inicio_mes = phrase.find(mes) \n",
    "            dia = re.findall(r'\\d+',phrase[inicio_mes-6:inicio_mes-4])[0]\n",
    "            \n",
    "    if phrase.find('2019'):\n",
    "        ano = \"2019\"\n",
    "    elif phrase.find('2020'):\n",
    "        ano = \"2020\"\n",
    "    \n",
    "    return(int(dia), int(mes_n), int(ano))\n",
    "\n",
    "\n",
    "## Extrac time based on a dangling \"h\"\n",
    "\n",
    "def extract_time(text):\n",
    "    h_solto = phrase.find(\" h\\n\")\n",
    "    \n",
    "    if h_solto != -1:\n",
    "        horario = str(phrase[h_solto-2:h_solto])\n",
    "    else:\n",
    "        pattern = r'([0-9][0-9])h'\n",
    "        horario = int(re.findall(pattern, phrase)[0])\n",
    "    \n",
    "    print(horario)\n",
    "    return(int(horario))\n",
    "\n",
    "\n",
    "def extract_place(text):\n",
    "    locais = ['anfiteatro', 'auditório', 'auditorio']\n",
    "\n",
    "    for index , local in enumerate(locais):\n",
    "        if local in phrase.lower():\n",
    "            inicio_local = phrase.lower().find(local)\n",
    "            fim_local = phrase.lower().find(\"\\n\", inicio_local)\n",
    "            local_final = phrase[inicio_local : fim_local]\n",
    "\n",
    "    return(local_final)\n",
    "\n",
    "\n",
    "\n",
    "\n",
    "\n",
    "def make_event( title, place, day, month, year, hour, minute, text = \"\", link = \"\"):\n",
    "    \n",
    "    event_start = dt.datetime(year, month, day, hour, minute, 0)\n",
    "    event_end = dt.datetime(year, month, day, hour + 1, minute, 0)\n",
    "    \n",
    "    evento = Event()\n",
    "    evento.add('dtstart', event_start)\n",
    "    evento.add('dtend', event_end)\n",
    "    evento.add('summary', title )\n",
    "    evento.add('location', place)\n",
    "    evento.add('description', title + \"\\n\" + link + \"\\n\" + text)\n",
    "    return(evento)\n",
    "\n",
    "\n",
    "\n",
    "def magic_extract_event(phrase):\n",
    "    title = extract_title_from_quotes(phrase)\n",
    "    day, month, year = extract_date(phrase)\n",
    "    hour = extract_time(phrase)\n",
    "    place = extract_place(phrase)\n",
    "    return(make_event(title,place,day,month,year,hour, minute = 0, text = phrase))\n",
    "\n",
    "\n",
    "def export_event(event, directory = \".\", name = \"example.ics\"):\n",
    "    cal = Calendar()\n",
    "    cal.add_component(event)\n",
    "    f = open(os.path.join(directory, name), 'wb')\n",
    "    f.write(cal.to_ical())\n",
    "    f.close()\n"
   ]
  },
  {
   "cell_type": "code",
   "execution_count": 150,
   "metadata": {},
   "outputs": [
    {
     "name": "stdout",
     "output_type": "stream",
     "text": [
      "UMA VISÃO INTERDISCIPLINAR\n",
      "\n",
      "0,\n",
      "a] TÓPICOS ATUAIS DA RELAÇÃO ENTRE\n",
      "FILOSOFIA E CIÊNCIAS BIOLÓGICAS:\n",
      "\n",
      " \n",
      "\n",
      "Maurício Ramos (FFLCH/USP)\n",
      "Francisco Rômulo Ferreira (UFRJ)\n",
      "\n",
      "“Qual é afinal a relação entre Filosofia e\n",
      "Ciências Biológicas?”\n",
      "\n",
      " \n",
      "\n",
      "Quinta-feira, 31 de outubro de 2019, 15 h\n",
      "\n",
      "Anfiteatro Geral da Botânica\n",
      "Instituto de Biociências - Universidade de São Paulo\n"
     ]
    }
   ],
   "source": [
    "import pytesseract as ocr\n",
    "\n",
    "from PIL import Image\n",
    "\n",
    "\n",
    "phrase = ocr.image_to_string(Image.open('../data/gorila31.png'), lang='por')\n",
    "print(phrase)"
   ]
  },
  {
   "cell_type": "code",
   "execution_count": 151,
   "metadata": {},
   "outputs": [
    {
     "name": "stdout",
     "output_type": "stream",
     "text": [
      "Qual é afinal a relação entre Filosofia e Ciências Biológicas?\n"
     ]
    }
   ],
   "source": [
    "title = extract_title_from_quotes(phrase)"
   ]
  },
  {
   "cell_type": "code",
   "execution_count": 152,
   "metadata": {},
   "outputs": [],
   "source": [
    "day, month, year = extract_date(phrase)"
   ]
  },
  {
   "cell_type": "code",
   "execution_count": 153,
   "metadata": {},
   "outputs": [
    {
     "name": "stdout",
     "output_type": "stream",
     "text": [
      "15\n"
     ]
    }
   ],
   "source": [
    "hour = extract_time(phrase)"
   ]
  },
  {
   "cell_type": "code",
   "execution_count": 154,
   "metadata": {},
   "outputs": [],
   "source": [
    "place = extract_place(phrase)"
   ]
  },
  {
   "cell_type": "code",
   "execution_count": 155,
   "metadata": {},
   "outputs": [
    {
     "data": {
      "text/plain": [
       "Event([('DTSTART', <icalendar.prop.vDDDTypes at 0x7fa20886cd30>),\n",
       "       ('DTEND', <icalendar.prop.vDDDTypes at 0x7fa20886ce48>),\n",
       "       ('SUMMARY',\n",
       "        vText('b'Qual \\xc3\\xa9 afinal a rela\\xc3\\xa7\\xc3\\xa3o entre Filosofia e Ci\\xc3\\xaancias Biol\\xc3\\xb3gicas?'')),\n",
       "       ('LOCATION', vText('b'Anfiteatro Geral da Bot\\xc3\\xa2nica'')),\n",
       "       ('DESCRIPTION',\n",
       "        vText('b'Qual \\xc3\\xa9 afinal a rela\\xc3\\xa7\\xc3\\xa3o entre Filosofia e Ci\\xc3\\xaancias Biol\\xc3\\xb3gicas?\\\\n\\\\nUMA VIS\\xc3\\x83O INTERDISCIPLINAR\\\\n\\\\n0\\\\,\\\\na] T\\xc3\\x93PICOS ATUAIS DA RELA\\xc3\\x87\\xc3\\x83O ENTRE\\\\nFILOSOFIA E CI\\xc3\\x8aNCIAS BIOL\\xc3\\x93GICAS:\\\\n\\\\n \\\\n\\\\nMaur\\xc3\\xadcio Ramos (FFLCH/USP)\\\\nFrancisco R\\xc3\\xb4mulo Ferreira (UFRJ)\\\\n\\\\n\\xe2\\x80\\x9cQual \\xc3\\xa9 afinal a rela\\xc3\\xa7\\xc3\\xa3o entre Filosofia e\\\\nCi\\xc3\\xaancias Biol\\xc3\\xb3gicas?\\xe2\\x80\\x9d\\\\n\\\\n \\\\n\\\\nQuinta-feira\\\\, 31 de outubro de 2019\\\\, 15 h\\\\n\\\\nAnfiteatro Geral da Bot\\xc3\\xa2nica\\\\nInstituto de Bioci\\xc3\\xaancias - Universidade de S\\xc3\\xa3o Paulo''))])"
      ]
     },
     "execution_count": 155,
     "metadata": {},
     "output_type": "execute_result"
    }
   ],
   "source": [
    "make_event(title,place,day,month,year,hour, minute = 0, text = phrase)"
   ]
  },
  {
   "cell_type": "code",
   "execution_count": 156,
   "metadata": {},
   "outputs": [
    {
     "name": "stdout",
     "output_type": "stream",
     "text": [
      "Qual é afinal a relação entre Filosofia e Ciências Biológicas?\n",
      "15\n"
     ]
    }
   ],
   "source": [
    "event = magic_extract_event(phrase)"
   ]
  },
  {
   "cell_type": "code",
   "execution_count": 157,
   "metadata": {},
   "outputs": [],
   "source": [
    "export_event(event)"
   ]
  },
  {
   "cell_type": "code",
   "execution_count": 158,
   "metadata": {},
   "outputs": [
    {
     "name": "stdout",
     "output_type": "stream",
     "text": [
      "UMA VISÃO INTERDISCIPLINAR\n",
      "\n",
      "0,\n",
      "| TÓPICOS ATUAIS DA RELAÇÃO ENTRE\n",
      "FILOSOFIA E CIÊNCIAS. BIOLÓGICAS:\n",
      "\n",
      " \n",
      "\n",
      "Igor Cesarino (Depto Botânica - IBUSP)\n",
      "Dalton Ramos (FO - USP)\n",
      "\n",
      "“A Biologia enquanto ciência\n",
      "fundamental: aplicações tecnológicas\n",
      "e na área da saúde”\n",
      "\n",
      "pa oO s\n",
      "q sa & E\n",
      "TSM = a S Z\n",
      "5S HISTÓRIA & õ\n",
      "ss FINANCIAMENTO O\n",
      "dj SOCIEDADE , & 2\n",
      "8 o TICA = 5\n",
      "E 2 TECNOLOGIA ciência O\n",
      "O\n",
      "£ E FILOSOFIA BIOLOGIA G\n",
      "O «SAÚDE INOVAÇÃO <\n",
      "ste E NOVAÇÃO G 4º\n",
      "& O E ESTRATÉGIA < E cg\n",
      "%z g o DS\n",
      "WS ú Q Tg”\n",
      "E) uy ã s\n",
      "o o 8 é\n",
      "SS º m É\n",
      "> Quinta-feira, “4 de novembro de 2019,15h\n",
      "Anfiteatro Geral da Botânica\n",
      "\n",
      "Instituto de Biociências - Universidade de São Paulo\n"
     ]
    }
   ],
   "source": [
    "import pytesseract as ocr\n",
    "\n",
    "from PIL import Image\n",
    "\n",
    "\n",
    "phrase = ocr.image_to_string(Image.open('../data/PALESTRA1411.png'), lang='por')\n",
    "print(phrase)"
   ]
  },
  {
   "cell_type": "code",
   "execution_count": 159,
   "metadata": {},
   "outputs": [
    {
     "name": "stdout",
     "output_type": "stream",
     "text": [
      "A Biologia enquanto ciência fundamental: aplicações tecnológicas e na área da saúde\n",
      "15\n"
     ]
    }
   ],
   "source": [
    "event = magic_extract_event(phrase)"
   ]
  },
  {
   "cell_type": "code",
   "execution_count": 160,
   "metadata": {},
   "outputs": [
    {
     "name": "stdout",
     "output_type": "stream",
     "text": [
      "VEVENT({'DTSTART': <icalendar.prop.vDDDTypes object at 0x7fa2088894e0>, 'DTEND': <icalendar.prop.vDDDTypes object at 0x7fa2088895c0>, 'SUMMARY': vText('b'A Biologia enquanto ci\\xc3\\xaancia fundamental: aplica\\xc3\\xa7\\xc3\\xb5es tecnol\\xc3\\xb3gicas e na \\xc3\\xa1rea da sa\\xc3\\xbade''), 'LOCATION': vText('b'Anfiteatro Geral da Bot\\xc3\\xa2nica''), 'DESCRIPTION': vText('b'A Biologia enquanto ci\\xc3\\xaancia fundamental: aplica\\xc3\\xa7\\xc3\\xb5es tecnol\\xc3\\xb3gicas e na \\xc3\\xa1rea da sa\\xc3\\xbade\\\\n\\\\nUMA VIS\\xc3\\x83O INTERDISCIPLINAR\\\\n\\\\n0\\\\,\\\\n| T\\xc3\\x93PICOS ATUAIS DA RELA\\xc3\\x87\\xc3\\x83O ENTRE\\\\nFILOSOFIA E CI\\xc3\\x8aNCIAS. BIOL\\xc3\\x93GICAS:\\\\n\\\\n \\\\n\\\\nIgor Cesarino (Depto Bot\\xc3\\xa2nica - IBUSP)\\\\nDalton Ramos (FO - USP)\\\\n\\\\n\\xe2\\x80\\x9cA Biologia enquanto ci\\xc3\\xaancia\\\\nfundamental: aplica\\xc3\\xa7\\xc3\\xb5es tecnol\\xc3\\xb3gicas\\\\ne na \\xc3\\xa1rea da sa\\xc3\\xbade\\xe2\\x80\\x9d\\\\n\\\\npa oO s\\\\nq sa & E\\\\nTSM = a S Z\\\\n5S HIST\\xc3\\x93RIA & \\xc3\\xb5\\\\nss FINANCIAMENTO O\\\\ndj SOCIEDADE \\\\, & 2\\\\n8 o TICA = 5\\\\nE 2 TECNOLOGIA ci\\xc3\\xaancia O\\\\nO\\\\n\\xc2\\xa3 E FILOSOFIA BIOLOGIA G\\\\nO \\xc2\\xabSA\\xc3\\x9aDE INOVA\\xc3\\x87\\xc3\\x83O <\\\\nste E NOVA\\xc3\\x87\\xc3\\x83O G 4\\xc2\\xba\\\\n& O E ESTRAT\\xc3\\x89GIA < E cg\\\\n%z g o DS\\\\nWS \\xc3\\xba Q Tg\\xe2\\x80\\x9d\\\\nE) uy \\xc3\\xa3 s\\\\no o 8 \\xc3\\xa9\\\\nSS \\xc2\\xba m \\xc3\\x89\\\\n> Quinta-feira\\\\, \\xe2\\x80\\x9c4 de novembro de 2019\\\\,15h\\\\nAnfiteatro Geral da Bot\\xc3\\xa2nica\\\\n\\\\nInstituto de Bioci\\xc3\\xaancias - Universidade de S\\xc3\\xa3o Paulo'')})\n"
     ]
    }
   ],
   "source": [
    "print(event)"
   ]
  },
  {
   "cell_type": "code",
   "execution_count": 161,
   "metadata": {},
   "outputs": [],
   "source": [
    "export_event(event, name=\"test.ics\")"
   ]
  },
  {
   "cell_type": "code",
   "execution_count": 163,
   "metadata": {},
   "outputs": [
    {
     "name": "stdout",
     "output_type": "stream",
     "text": [
      "A Biologia enquanto ciência fundamental: aplicações tecnológicas e na área da saúde\n",
      "15\n"
     ]
    }
   ],
   "source": [
    "    title = extract_title_from_quotes(phrase)\n",
    "    day, month, year = extract_date(phrase)\n",
    "    hour = extract_time(phrase)\n",
    "    place = extract_place(phrase)\n",
    "    \n",
    "    \n",
    "    day =14\n",
    "    export_event(make_event(title,place,day,month,year,hour, minute = 0, text = phrase), name=\"test.ics\")"
   ]
  },
  {
   "cell_type": "code",
   "execution_count": null,
   "metadata": {},
   "outputs": [],
   "source": []
  }
 ],
 "metadata": {
  "kernelspec": {
   "display_name": "Python 3",
   "language": "python",
   "name": "python3"
  },
  "language_info": {
   "codemirror_mode": {
    "name": "ipython",
    "version": 3
   },
   "file_extension": ".py",
   "mimetype": "text/x-python",
   "name": "python",
   "nbconvert_exporter": "python",
   "pygments_lexer": "ipython3",
   "version": "3.6.5"
  }
 },
 "nbformat": 4,
 "nbformat_minor": 4
}
