{
 "cells": [
  {
   "cell_type": "code",
   "execution_count": 2,
   "metadata": {},
   "outputs": [
    {
     "name": "stdout",
     "output_type": "stream",
     "text": [
      "UMA VISÃO INTERDISCIPLINAR\n",
      "\n",
      "0,\n",
      "a] TÓPICOS ATUAIS DA RELAÇÃO ENTRE\n",
      "FILOSOFIA E CIÊNCIAS BIOLÓGICAS:\n",
      "\n",
      " \n",
      "\n",
      "Maurício Ramos (FFLCH/USP)\n",
      "Francisco Rômulo Ferreira (UFRJ)\n",
      "\n",
      "“Qual é afinal a relação entre Filosofia e\n",
      "Ciências Biológicas?”\n",
      "\n",
      " \n",
      "\n",
      "Quinta-feira, 31 de outubro de 2019, 15 h\n",
      "\n",
      "Anfiteatro Geral da Botânica\n",
      "Instituto de Biociências - Universidade de São Paulo\n"
     ]
    }
   ],
   "source": [
    "import pytesseract as ocr\n",
    "\n",
    "from PIL import Image\n",
    "\n",
    "\n",
    "phrase = ocr.image_to_string(Image.open('../data/gorila31.png'), lang='por')\n",
    "print(phrase)"
   ]
  },
  {
   "cell_type": "code",
   "execution_count": 3,
   "metadata": {},
   "outputs": [
    {
     "name": "stdout",
     "output_type": "stream",
     "text": [
      "['Qual é afinal a relação entre Filosofia e\\nCiências Biológicas?']\n",
      "['Qual é afinal a relação entre Filosofia e Ciências Biológicas?']\n"
     ]
    }
   ],
   "source": [
    "import re\n",
    "\n",
    "pattern = r'“([\\s\\S]*?)”'\n",
    "m = re.findall(pattern, phrase)\n",
    "\n",
    "\n",
    " \n",
    "titulo = str(m).replace(\"\\\\n\", \" \") \n",
    "print(titulo)"
   ]
  },
  {
   "cell_type": "raw",
   "metadata": {},
   "source": []
  },
  {
   "cell_type": "code",
   "execution_count": 6,
   "metadata": {},
   "outputs": [
    {
     "name": "stdout",
     "output_type": "stream",
     "text": [
      "15\n"
     ]
    }
   ],
   "source": [
    "h_solto = phrase.find(\" h\\n\") \n",
    "\n",
    "\n",
    "horario = str(phrase[h_solto-2:h_solto])\n",
    "print(horario)"
   ]
  },
  {
   "cell_type": "code",
   "execution_count": 62,
   "metadata": {},
   "outputs": [
    {
     "name": "stdout",
     "output_type": "stream",
     "text": [
      "10\n",
      "31\n"
     ]
    }
   ],
   "source": [
    "meses = [\"janeiro\", \"fevereiro\", \"março\", \"abril\", \"maio\", \"junho\", \"julho\", \"agosto\", \"setembro\", \"outubro\", \"novembro\", \"dezembro\"]\n",
    "\n",
    "for index , mes in enumerate(meses):\n",
    "    if mes in phrase:\n",
    "        mes_n = index + 1\n",
    "        inicio_mes = h_solto = phrase.find(mes) \n",
    "        dia = phrase[inicio_mes-6:inicio_mes-4]\n",
    "\n",
    "print(mes_n)\n",
    "print(dia)"
   ]
  },
  {
   "cell_type": "code",
   "execution_count": 66,
   "metadata": {},
   "outputs": [
    {
     "name": "stdout",
     "output_type": "stream",
     "text": [
      "IB-USP R Users Convida:\n",
      "\n",
      "\"A gramática dos gráficos: uma introdução ao ggplot2\"\n",
      "\n",
      "ggplot2\n",
      "\n",
      "Data: 29/10 (Próxima Terça)\n",
      "Horário: 13h\n",
      "Local: Auditório 1 do CD\n",
      "\n",
      " \n",
      "\n",
      "Diogo Melo\n",
      "Pós Doc\n",
      "Departamento de Genética e Biologia Evolutiva\n"
     ]
    }
   ],
   "source": [
    "import pytesseract as ocr\n",
    "\n",
    "from PIL import Image\n",
    "\n",
    "\n",
    "phrase = ocr.image_to_string(Image.open('../data/palestraR.png'), lang='por')\n",
    "print(phrase)"
   ]
  },
  {
   "cell_type": "code",
   "execution_count": 38,
   "metadata": {},
   "outputs": [
    {
     "name": "stdout",
     "output_type": "stream",
     "text": [
      " A gramática dos gráficos: uma introdução ao ggplot2  29 10 13 Auditório 1 do CD\n"
     ]
    }
   ],
   "source": [
    "phrase = phrase.replace(\"“\", '\"')\n",
    "phrase = phrase.replace(\"”\", '\"')\n",
    "\n",
    "\n",
    "data_index = phrase.find(\"Data: \")\n",
    "\n",
    "dia = int(phrase[data_index+6:data_index+8])\n",
    "mes = int(phrase[data_index+9:data_index+11])\n",
    "\n",
    "horario_index = phrase.find(\"Horário: \")\n",
    "\n",
    "horario = int(phrase[horario_index+9:horario_index+11])\n",
    "\n",
    "local_index = phrase.find(\"Local\")\n",
    "local_end = phrase.find(\"\\n\",local_index )\n",
    "\n",
    "local = phrase[local_index +  7:local_end]\n",
    "\n",
    "pattern = r'\"([\\s\\S]*?)\"'\n",
    "m = re.findall(pattern, phrase)\n",
    "\n",
    " \n",
    "titulo = str(m).replace(\"\\\\n\", \" \")\n",
    "titulo = str(titulo).replace(\"['\", \" \")\n",
    "titulo = str(titulo).replace(\"']\", \" \")\n",
    "print(titulo, dia, mes,horario, local)"
   ]
  },
  {
   "cell_type": "code",
   "execution_count": 1,
   "metadata": {},
   "outputs": [
    {
     "ename": "NameError",
     "evalue": "name 'mes' is not defined",
     "output_type": "error",
     "traceback": [
      "\u001b[0;31m---------------------------------------------------------------------------\u001b[0m",
      "\u001b[0;31mNameError\u001b[0m                                 Traceback (most recent call last)",
      "\u001b[0;32m<ipython-input-1-2a3e23a4e0bb>\u001b[0m in \u001b[0;36m<module>\u001b[0;34m()\u001b[0m\n\u001b[1;32m      9\u001b[0m \u001b[0mano\u001b[0m \u001b[0;34m=\u001b[0m \u001b[0;36m2019\u001b[0m\u001b[0;34m\u001b[0m\u001b[0m\n\u001b[1;32m     10\u001b[0m \u001b[0;34m\u001b[0m\u001b[0m\n\u001b[0;32m---> 11\u001b[0;31m \u001b[0mevent_start\u001b[0m \u001b[0;34m=\u001b[0m \u001b[0mdt\u001b[0m\u001b[0;34m.\u001b[0m\u001b[0mdatetime\u001b[0m\u001b[0;34m(\u001b[0m\u001b[0mano\u001b[0m\u001b[0;34m,\u001b[0m \u001b[0mmes\u001b[0m\u001b[0;34m,\u001b[0m \u001b[0mdia\u001b[0m\u001b[0;34m,\u001b[0m \u001b[0mhorario\u001b[0m\u001b[0;34m,\u001b[0m \u001b[0;36m0\u001b[0m\u001b[0;34m,\u001b[0m \u001b[0;36m0\u001b[0m\u001b[0;34m)\u001b[0m\u001b[0;34m\u001b[0m\u001b[0m\n\u001b[0m\u001b[1;32m     12\u001b[0m \u001b[0mevent_end\u001b[0m \u001b[0;34m=\u001b[0m \u001b[0mdt\u001b[0m\u001b[0;34m.\u001b[0m\u001b[0mdatetime\u001b[0m\u001b[0;34m(\u001b[0m\u001b[0mano\u001b[0m\u001b[0;34m,\u001b[0m \u001b[0mmes\u001b[0m\u001b[0;34m,\u001b[0m \u001b[0mdia\u001b[0m\u001b[0;34m,\u001b[0m \u001b[0mhorario\u001b[0m \u001b[0;34m+\u001b[0m\u001b[0;36m1\u001b[0m\u001b[0;34m,\u001b[0m \u001b[0;36m0\u001b[0m\u001b[0;34m,\u001b[0m \u001b[0;36m0\u001b[0m\u001b[0;34m)\u001b[0m\u001b[0;34m\u001b[0m\u001b[0m\n\u001b[1;32m     13\u001b[0m \u001b[0;34m\u001b[0m\u001b[0m\n",
      "\u001b[0;31mNameError\u001b[0m: name 'mes' is not defined"
     ]
    }
   ],
   "source": [
    "link = \"https://www.ib.usp.br/mais-eventos/3023-palestrasib2310-2.html\"\n",
    "\n",
    "from icalendar import Calendar, Event\n",
    "import datetime as dt\n",
    "\n",
    "\n",
    "cal = Calendar()\n",
    "\n",
    "ano = 2019\n",
    "\n",
    "event_start = dt.datetime(ano, mes, dia, horario, 0, 0)\n",
    "event_end = dt.datetime(ano, mes, dia, horario +1, 0, 0)\n",
    "\n",
    "\n",
    "event = Event()\n",
    "event.add('dtstart', event_start)\n",
    "event.add('dtend', event_end)\n",
    "event.add('summary', titulo )\n",
    "event.add('location', local)\n",
    "event.add('description', phrase + \"\\n\" + link )\n",
    "\n",
    "cal.add_component(event)\n",
    "\n",
    "\n",
    "import tempfile, os\n",
    "directory = tempfile.mkdtemp()\n",
    "f = open(os.path.join(directory, 'example.ics'), 'wb')\n",
    "f.write(cal.to_ical())\n",
    "f.close()"
   ]
  },
  {
   "cell_type": "code",
   "execution_count": null,
   "metadata": {},
   "outputs": [
    {
     "name": "stdout",
     "output_type": "stream",
     "text": [
      "IB-USP R Users Convida:\n",
      "\n",
      "\"A gramática dos gráficos: uma introdução ao ggplot2”\n",
      "\n",
      "l ggplot2\n",
      "\n",
      "Data: 29/10 (Próxima Terça)\n",
      "Horário: 13h\n",
      "Local: Auditório 1 do CD\n",
      "\n",
      " \n",
      "\n",
      "Diogo Melo\n",
      "Pós Doc\n",
      "Departamento de Genética e Biologia Evolutiva\n"
     ]
    }
   ],
   "source": [
    "import pytesseract as ocr\n",
    "\n",
    "from PIL import Image\n",
    "\n",
    "\n",
    "phrase2 = ocr.image_to_string(Image.open('../data/palestra29.png'), lang='por')\n",
    "print(phrase2)"
   ]
  },
  {
   "cell_type": "code",
   "execution_count": 67,
   "metadata": {},
   "outputs": [
    {
     "name": "stdout",
     "output_type": "stream",
     "text": [
      "[]\n"
     ]
    }
   ],
   "source": [
    "import re\n",
    "\n",
    "pattern = r'“([\\s\\S]*?)”'\n",
    "m2 = re.findall(pattern, phrase2)\n",
    "\n",
    " \n",
    "titulo2 = str(m2).replace(\"\\\\n\", \" \") \n",
    "print(titulo2)"
   ]
  }
 ],
 "metadata": {
  "kernelspec": {
   "display_name": "Python 3",
   "language": "python",
   "name": "python3"
  },
  "language_info": {
   "codemirror_mode": {
    "name": "ipython",
    "version": 3
   },
   "file_extension": ".py",
   "mimetype": "text/x-python",
   "name": "python",
   "nbconvert_exporter": "python",
   "pygments_lexer": "ipython3",
   "version": "3.6.5"
  }
 },
 "nbformat": 4,
 "nbformat_minor": 4
}
