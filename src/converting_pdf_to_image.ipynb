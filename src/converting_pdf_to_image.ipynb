{
 "cells": [
  {
   "cell_type": "code",
   "execution_count": 11,
   "metadata": {},
   "outputs": [
    {
     "name": "stdout",
     "output_type": "stream",
     "text": [
      "Beginning file download with urllib2...\n"
     ]
    },
    {
     "data": {
      "text/plain": [
       "('../data/temp.pdf', <http.client.HTTPMessage at 0x7f81270b8f60>)"
      ]
     },
     "execution_count": 11,
     "metadata": {},
     "output_type": "execute_result"
    }
   ],
   "source": [
    "import urllib.request\n",
    "\n",
    "print('Beginning file download with urllib2...')\n",
    "\n",
    "url = 'https://ww2.icb.usp.br/icb/wp-content/uploads/2019/10/Jacqueline_Alves_06-11-19.pdf?x89681'\n",
    "urllib.request.urlretrieve(url, '../data/temp.pdf')"
   ]
  },
  {
   "cell_type": "code",
   "execution_count": 14,
   "metadata": {},
   "outputs": [],
   "source": [
    "from pdf2image import convert_from_path\n",
    "pages = convert_from_path('../data/temp.pdf', 500)\n",
    "\n",
    "for page in pages:\n",
    "    page.save('../data/temp.png', 'PNG')"
   ]
  },
  {
   "cell_type": "code",
   "execution_count": 15,
   "metadata": {},
   "outputs": [
    {
     "name": "stdout",
     "output_type": "stream",
     "text": [
      "O Programa de Pós-graduação em Imunologia do Instituto de Ciências\n",
      "Biomédicas ICB-USP tem o prazer de convidar todos para a apresentação\n",
      "\n",
      "Influência da. Quabaína-Na+/K+-ATPase na\n",
      "\n",
      "sinalização inflamatoria-periférica.e central\n",
      "\n",
      " \n",
      "\n",
      "Jacqueline Alves Leite\n",
      "\n",
      "Graduação em Farmácia (2008) e\n",
      "mestrado | em Produtos Naturais\n",
      "Sintéticos e Bioativos (2012) pela UFPB.\n",
      "Doutorado em Farmacologia pelo\n",
      "ICB/USP sob orientação do Prof.\n",
      "Cristoforo ' Scavoni, com periodo\n",
      "sanduíche no Center for Membrane\n",
      "Pumps in Cells and Disease (PUMPKIN),\n",
      "na Dinamarca. Tem experiência em\n",
      "neurofarmacologia e neuroinflamação\n",
      "induzida por estresse crônico, e\n",
      "recentemente foi aprovada no concurso\n",
      "\n",
      " \n",
      "\n",
      "Local: Anfiteatro Ivan da Mota e para professora de farmacologia da UFG\n",
      "Albuquerque (ROSA)\n",
      "\n",
      "Edifício Biomédicas IV 06 de novemrbo\n",
      "\n",
      "Av. Prof. Lineu Prestes, 1730 - .\n",
      "\n",
      "Cidade Universitária. (quarta-feira), 12h\n",
      "\n",
      "Organização:\n",
      "\n",
      "Theresa Ramalho\n",
      "\n",
      "Gustavo P. Amarante-Mendes\n",
      "Informações:\n",
      "\n",
      "Maria Eni do Sacramento Santos\n",
      "3091-7277\n",
      "\n",
      "Realização:\n",
      "\n",
      " \n",
      "  \n",
      "\n",
      "    \n",
      "  \n",
      "\n",
      "a E\n",
      "F,\n",
      "\n",
      "mai Ea [1\n",
      "\n",
      "hd E\n",
      "\n",
      "DEPARTAMENTO DE; É É,\n",
      "\n",
      "Imunologia\n",
      "\n",
      "INSTITUTO DE CIÊNCIAS EIDMÉDICAS |LSP\n"
     ]
    }
   ],
   "source": [
    "import pytesseract as ocr\n",
    "\n",
    "from PIL import Image\n",
    "\n",
    "\n",
    "phrase = ocr.image_to_string(Image.open('../data/temp.png'), lang='por')\n",
    "print(phrase)"
   ]
  }
 ],
 "metadata": {
  "kernelspec": {
   "display_name": "Python 3",
   "language": "python",
   "name": "python3"
  },
  "language_info": {
   "codemirror_mode": {
    "name": "ipython",
    "version": 3
   },
   "file_extension": ".py",
   "mimetype": "text/x-python",
   "name": "python",
   "nbconvert_exporter": "python",
   "pygments_lexer": "ipython3",
   "version": "3.7.3"
  }
 },
 "nbformat": 4,
 "nbformat_minor": 4
}
