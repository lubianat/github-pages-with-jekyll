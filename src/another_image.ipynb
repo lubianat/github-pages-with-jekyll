{
 "cells": [
  {
   "cell_type": "code",
   "execution_count": 3,
   "metadata": {},
   "outputs": [
    {
     "name": "stdout",
     "output_type": "stream",
     "text": [
      "O Centro de Facilidades de Apoio à Pesquisa -\n",
      "\n",
      "CEFAP-USP convida para a palestra\n",
      "\n",
      " \n",
      "\n",
      "Desenho experimental e preparo de amostras\n",
      "para análise in vivo equipamento IVIS\n",
      "\n",
      "Vivek R. Shinde Patil, PhD\n",
      "Director of Field Application Scientists | High Content and In Vivo Imaging |\n",
      "Americas\n",
      "PerkinElmer, Inc | Discovery & Analytical Solutions\n",
      "\n",
      "30 de Outubro de 2019, 10h00\n",
      "Anfiteatro CEFAP - ICB 4 — USP\n",
      "\n",
      " \n",
      "\n",
      "A palestra terá como foco o desenho experimental e como devem ser preparados os animais no\n",
      "equipamento IVIS utilizando sondas, linhagens celulares e bactérias. Serão abordado alguns\n",
      "temas como capacidade do equipamento, exemplos e métodos de utilização. Métodos\n",
      "alternativos como controle de qualidade em transfecção, análise de plantas e zebrafish e\n",
      "equipamentos complementares.\n"
     ]
    }
   ],
   "source": [
    "import pytesseract as ocr\n",
    "\n",
    "from PIL import Image\n",
    "\n",
    "\n",
    "phrase = ocr.image_to_string(Image.open('../data/IVIS.png'), lang='por')\n",
    "print(phrase)"
   ]
  },
  {
   "cell_type": "code",
   "execution_count": 42,
   "metadata": {},
   "outputs": [
    {
     "name": "stdout",
     "output_type": "stream",
     "text": [
      "10\n"
     ]
    }
   ],
   "source": [
    "import re\n",
    "\n",
    "pattern = r'([0-9][0-9])h'\n",
    "horario = int(re.findall(pattern, phrase)[0])\n",
    " \n",
    "\n",
    "print(horario)"
   ]
  },
  {
   "cell_type": "code",
   "execution_count": 47,
   "metadata": {},
   "outputs": [
    {
     "name": "stdout",
     "output_type": "stream",
     "text": [
      "10\n",
      "30\n"
     ]
    }
   ],
   "source": [
    "meses = [\"janeiro\", \"fevereiro\", \"março\", \"abril\", \"maio\", \"junho\", \"julho\", \"agosto\", \"setembro\", \"outubro\", \"novembro\", \"dezembro\"]\n",
    "\n",
    "for index , mes in enumerate(meses):\n",
    "    if mes in phrase.lower():\n",
    "        mes_n = index + 1\n",
    "        inicio_mes = phrase.lower().find(mes)\n",
    "        dia = phrase[inicio_mes-6:inicio_mes-4]\n",
    "\n",
    "print(mes_n)\n",
    "print(dia)"
   ]
  },
  {
   "cell_type": "code",
   "execution_count": 58,
   "metadata": {},
   "outputs": [
    {
     "name": "stdout",
     "output_type": "stream",
     "text": [
      "363\n",
      "393\n",
      "Anfiteatro CEFAP - ICB 4 — USP\n"
     ]
    }
   ],
   "source": [
    "\n",
    "locais = ['anfiteatro', 'auditório', 'auditorio']\n",
    "\n",
    "for index , local in enumerate(locais):\n",
    "    if local in phrase.lower():\n",
    "        inicio_local = phrase.lower().find(local)\n",
    "        print(inicio_local)\n",
    "        fim_local = phrase.lower().find(\"\\n\", inicio_local)\n",
    "        print(fim_local)\n",
    "        local_final = phrase[inicio_local : fim_local]\n",
    "\n",
    "print(local_final)"
   ]
  },
  {
   "cell_type": "code",
   "execution_count": null,
   "metadata": {},
   "outputs": [],
   "source": [
    "\n",
    "locais = ['anfiteatro', 'auditório', 'auditorio']\n",
    "\n",
    "for index , local in enumerate(locais):\n",
    "    if local in phrase.lower():\n",
    "        inicio_local = phrase.lower().find(local)\n",
    "        print(inicio_local)\n",
    "        fim_local = phrase.lower().find(\"\\n\", inicio_local)\n",
    "        print(fim_local)\n",
    "        local_final = phrase[inicio_local : fim_local]\n",
    "\n",
    "print(local_final)"
   ]
  },
  {
   "cell_type": "code",
   "execution_count": null,
   "metadata": {},
   "outputs": [],
   "source": []
  }
 ],
 "metadata": {
  "kernelspec": {
   "display_name": "Python 3",
   "language": "python",
   "name": "python3"
  },
  "language_info": {
   "codemirror_mode": {
    "name": "ipython",
    "version": 3
   },
   "file_extension": ".py",
   "mimetype": "text/x-python",
   "name": "python",
   "nbconvert_exporter": "python",
   "pygments_lexer": "ipython3",
   "version": "3.7.3"
  }
 },
 "nbformat": 4,
 "nbformat_minor": 4
}
