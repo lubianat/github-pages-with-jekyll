{
 "cells": [
  {
   "cell_type": "code",
   "execution_count": 43,
   "metadata": {},
   "outputs": [
    {
     "name": "stderr",
     "output_type": "stream",
     "text": [
      "/usr/lib/python3/dist-packages/urllib3/connectionpool.py:860: InsecureRequestWarning: Unverified HTTPS request is being made. Adding certificate verification is strongly advised. See: https://urllib3.readthedocs.io/en/latest/advanced-usage.html#ssl-warnings\n",
      "  InsecureRequestWarning)\n"
     ]
    }
   ],
   "source": [
    "import requests\n",
    "from bs4 import BeautifulSoup\n",
    "\n",
    "page = requests.get(\"http://www.ib.usp.br/mais-eventos.html\", verify=False)\n",
    "\n",
    "soup = BeautifulSoup(page.text, 'html.parser')\n",
    "\n",
    "\n"
   ]
  },
  {
   "cell_type": "code",
   "execution_count": 44,
   "metadata": {},
   "outputs": [
    {
     "name": "stdout",
     "output_type": "stream",
     "text": [
      "http://www.ib.usp.br/pt/mais-eventos/3028-aula-aberta-3.html\n"
     ]
    },
    {
     "name": "stderr",
     "output_type": "stream",
     "text": [
      "/usr/lib/python3/dist-packages/urllib3/connectionpool.py:860: InsecureRequestWarning: Unverified HTTPS request is being made. Adding certificate verification is strongly advised. See: https://urllib3.readthedocs.io/en/latest/advanced-usage.html#ssl-warnings\n",
      "  InsecureRequestWarning)\n"
     ]
    },
    {
     "ename": "AttributeError",
     "evalue": "'NoneType' object has no attribute 'find_all'",
     "output_type": "error",
     "traceback": [
      "\u001b[0;31m---------------------------------------------------------------------------\u001b[0m",
      "\u001b[0;31mAttributeError\u001b[0m                            Traceback (most recent call last)",
      "\u001b[0;32m<ipython-input-44-caff682491f1>\u001b[0m in \u001b[0;36m<module>\u001b[0;34m()\u001b[0m\n\u001b[1;32m     16\u001b[0m \u001b[0;34m\u001b[0m\u001b[0m\n\u001b[1;32m     17\u001b[0m         \u001b[0;31m# Pull text from all instances of <a> tag within BodyText div\u001b[0m\u001b[0;34m\u001b[0m\u001b[0;34m\u001b[0m\u001b[0m\n\u001b[0;32m---> 18\u001b[0;31m         \u001b[0mevent_info_items\u001b[0m \u001b[0;34m=\u001b[0m \u001b[0mevent_info\u001b[0m\u001b[0;34m.\u001b[0m\u001b[0mfind_all\u001b[0m\u001b[0;34m(\u001b[0m\u001b[0;34m'p'\u001b[0m\u001b[0;34m)\u001b[0m\u001b[0;34m\u001b[0m\u001b[0m\n\u001b[0m\u001b[1;32m     19\u001b[0m \u001b[0;34m\u001b[0m\u001b[0m\n\u001b[1;32m     20\u001b[0m \u001b[0;34m\u001b[0m\u001b[0m\n",
      "\u001b[0;31mAttributeError\u001b[0m: 'NoneType' object has no attribute 'find_all'"
     ]
    }
   ],
   "source": [
    "# Pull all text from the BodyText div\n",
    "event_list = soup.find(class_ = \"blog\")\n",
    "\n",
    "# Pull text from all instances of <a> tag within BodyText div\n",
    "event_list_items = event_list.find_all('a')\n",
    "\n",
    "for event in event_list_items:\n",
    "    link = \"http://www.ib.usp.br\" + event.get(\"href\")\n",
    "    if \"start\" not in link:\n",
    "        print(link)\n",
    "        page2 = requests.get(link, verify=False)\n",
    "\n",
    "        soup2 = BeautifulSoup(page.text, 'html.parser')\n",
    "        # Pull all text from the BodyText div\n",
    "        event_info = soup.find(class_='item-page')\n",
    "\n",
    "        # Pull text from all instances of <a> tag within BodyText div\n",
    "        event_info_items = event_info.find_all('p')\n",
    "\n",
    "\n",
    "        palestrante = 'a'\n",
    "\n",
    "        for info in event_info_items:\n",
    "            print(info.contents[0])\n",
    "            if \"Palestrante\" in str(info.contents[0]):\n",
    "                print(info.contents)\n",
    "            palestrante = info.contents[1]\n",
    "            if \"Data\" in str(info.contents[0]):\n",
    "                print(info.contents)\n",
    "            data = info.contents[1]\n",
    "   \n",
    "        \n",
    "        \n",
    "        \n",
    "        "
   ]
  },
  {
   "cell_type": "code",
   "execution_count": 70,
   "metadata": {},
   "outputs": [
    {
     "name": "stdout",
     "output_type": "stream",
     "text": [
      "http://www.ib.usp.br/pt/mais-eventos/3028-aula-aberta-3.html\n"
     ]
    },
    {
     "name": "stderr",
     "output_type": "stream",
     "text": [
      "/usr/lib/python3/dist-packages/urllib3/connectionpool.py:860: InsecureRequestWarning: Unverified HTTPS request is being made. Adding certificate verification is strongly advised. See: https://urllib3.readthedocs.io/en/latest/advanced-usage.html#ssl-warnings\n",
      "  InsecureRequestWarning)\n"
     ]
    },
    {
     "name": "stdout",
     "output_type": "stream",
     "text": [
      "[<strong><img alt=\"seminario0111\" height=\"403\" src=\"/images/seminario0111.png\" style=\"margin-right: 10px; float: left;\" width=\"230\"/>Título</strong>, <span style=\"background-color: transparent;\">:\"Lipidômica: metodologia e aplicações\"<br/><strong>Palestrante</strong>:Dr. Marcos Yukio Yoshinaga<br/>\"Possui graduação em Ciências Biológicas pela Universidade Federal de São Carlos (2001) e doutorado em Oceanografia Biológica pelo Instituto Oceanográfico da Universidade de São Paulo (2007). Atuou como pós-doutorando na Universidade de Bremen (MARUM) por 8 anos nos seguintes temas: geoquímica orgânica marinha, microbiologia oceanográfica, com ênfase em análise de lipídios intactos de membrana celular. Atualmente (desde Fev. 2016) atua como pós-doutorando no Instituto de Química da Universidade de São Paulo.\"<br/></span>, <strong>Data</strong>, ': 04/11/2019', <br/>, <strong>Horário</strong>, ': 13h', <br/>, <strong>Local</strong>, ': Sala Therezinha Ungaretti - Depto. de Genética e Biologia Evolutiva do IB/USP']\n",
      "['Os Seminários compõem a disciplina BIO5723 \"Temas de Pesquisa em Genética e Biologia Evolutiva\" e ocorrerão todas as segundas às 13h de 09/09 a 09/12 de 2019. A participação é aberta a todos e obrigatória para os matriculados na disciplina.']\n"
     ]
    }
   ],
   "source": [
    "\n",
    "print(link)\n",
    "page2 = requests.get(link, verify=False)\n",
    "\n",
    "soup2 = BeautifulSoup(page2.text, 'html.parser')\n",
    "        # Pull all text from the BodyText div\n",
    "event_info = soup2.find()\n",
    "\n",
    "event_info_items = event_info.find_all('p')\n",
    "for info in event_info_items:\n",
    "            print(info.contents)"
   ]
  },
  {
   "cell_type": "code",
   "execution_count": 65,
   "metadata": {},
   "outputs": [
    {
     "data": {
      "text/plain": [
       "'http://www.ib.usp.br/pt/mais-eventos/3028-aula-aberta-3.'"
      ]
     },
     "execution_count": 65,
     "metadata": {},
     "output_type": "execute_result"
    }
   ],
   "source": [
    "link[:-4]\n"
   ]
  },
  {
   "cell_type": "code",
   "execution_count": null,
   "metadata": {},
   "outputs": [],
   "source": []
  }
 ],
 "metadata": {
  "kernelspec": {
   "display_name": "Python 3",
   "language": "python",
   "name": "python3"
  },
  "language_info": {
   "codemirror_mode": {
    "name": "ipython",
    "version": 3
   },
   "file_extension": ".py",
   "mimetype": "text/x-python",
   "name": "python",
   "nbconvert_exporter": "python",
   "pygments_lexer": "ipython3",
   "version": "3.6.5"
  }
 },
 "nbformat": 4,
 "nbformat_minor": 4
}
