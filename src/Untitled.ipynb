{
 "cells": [
  {
   "cell_type": "markdown",
   "metadata": {},
   "source": [
    "Raspando o ICB USP em 2 de dezembro de 2019\n",
    "\n",
    "\n",
    "\n"
   ]
  },
  {
   "cell_type": "code",
   "execution_count": 3,
   "metadata": {},
   "outputs": [
    {
     "name": "stdout",
     "output_type": "stream",
     "text": [
      "https://ww2.icb.usp.br/icb/capacitacao-uso-animais/\n",
      "https://ww2.icb.usp.br/icb/discutindo-a-pos-graduacao-nas-areas-biologicas/\n",
      "https://www.al.sp.gov.br/ilp/detalheAtividade.jsp?id=5349\n",
      "https://ww2.icb.usp.br/icb/wp-content/uploads/2019/11/Immunologic-Stories04-12-19.pdf?x22217\n",
      "https://ww2.icb.usp.br/icb/wp-content/uploads/2019/11/05_12_Ana_Paula.pdf?x22217\n",
      "https://ww2.icb.usp.br/icb/wp-content/uploads/2019/11/50_anos_IB.jpg?x22217\n",
      "https://ww2.icb.usp.br/icb/encerramento-do-ano-do-projeto-biocientista-mirim/\n",
      "https://www.sympla.com.br/showcase-de-biotechs-dos-laboratorios-do-icbusp__676632\n",
      "https://en.unesco.org/artificial-intelligence/latin-america-forum\n",
      "https://ww2.icb.usp.br/icb/wp-content/uploads/2019/11/MEDICINA_EVOLUCAO.jpg?x22217\n",
      "https://ww2.icb.usp.br/icb/wp-content/uploads/2019/08/Cartaz_CV_2020.pdf?x22217\n",
      "https://ww2.icb.usp.br/icb/wp-content/uploads/2019/10/Jornada_de_anatomia.pdf?x22217\n",
      "https://ww2.icb.usp.br/icb/curso-de-ferias-em-imunologia/\n",
      "https://ww2.icb.usp.br/icb/wp-content/uploads/2019/09/Curso_Verao_Biologia_Celular.jpg?x22217\n",
      "https://ww2.icb.usp.br/icb/wp-content/uploads/2019/11/SP_Cancer.jpg?x22217\n",
      "http://www.icb.usp.br/divulgacao\n"
     ]
    }
   ],
   "source": [
    "\n",
    "import requests\n",
    "from bs4 import BeautifulSoup\n",
    "\n",
    "page = requests.get(\"https://ww2.icb.usp.br/icb/eventos/\")\n",
    "soup = BeautifulSoup(page.text, 'html.parser')\n",
    "\n",
    "event_list = soup.find(class_='single_content')\n",
    "\n",
    "event_list_items = event_list.find_all('a')\n",
    "\n",
    "for event in event_list_items:\n",
    "    print(event.get(\"href\"))"
   ]
  },
  {
   "cell_type": "code",
   "execution_count": 20,
   "metadata": {},
   "outputs": [],
   "source": [
    "import cal_extract as ce"
   ]
  },
  {
   "cell_type": "code",
   "execution_count": 21,
   "metadata": {},
   "outputs": [
    {
     "name": "stdout",
     "output_type": "stream",
     "text": [
      "https://ww2.icb.usp.br/icb/capacitacao-uso-animais/\n",
      "ops\n",
      "https://ww2.icb.usp.br/icb/discutindo-a-pos-graduacao-nas-areas-biologicas/\n",
      "ops\n",
      "https://www.al.sp.gov.br/ilp/detalheAtividade.jsp?id=5349\n",
      "ops\n",
      "https://ww2.icb.usp.br/icb/wp-content/uploads/2019/11/Immunologic-Stories04-12-19.pdf?x22217\n",
      "ops\n",
      "https://ww2.icb.usp.br/icb/wp-content/uploads/2019/11/05_12_Ana_Paula.pdf?x22217\n",
      "ops\n",
      "https://ww2.icb.usp.br/icb/wp-content/uploads/2019/11/50_anos_IB.jpg?x22217\n",
      "ops\n",
      "https://ww2.icb.usp.br/icb/encerramento-do-ano-do-projeto-biocientista-mirim/\n",
      "ops\n",
      "https://www.sympla.com.br/showcase-de-biotechs-dos-laboratorios-do-icbusp__676632\n",
      "ops\n",
      "https://en.unesco.org/artificial-intelligence/latin-america-forum\n",
      "ops\n",
      "https://ww2.icb.usp.br/icb/wp-content/uploads/2019/11/MEDICINA_EVOLUCAO.jpg?x22217\n",
      "ops\n",
      "https://ww2.icb.usp.br/icb/wp-content/uploads/2019/08/Cartaz_CV_2020.pdf?x22217\n",
      "ops\n",
      "https://ww2.icb.usp.br/icb/wp-content/uploads/2019/10/Jornada_de_anatomia.pdf?x22217\n",
      "ops\n",
      "https://ww2.icb.usp.br/icb/curso-de-ferias-em-imunologia/\n",
      "ops\n",
      "https://ww2.icb.usp.br/icb/wp-content/uploads/2019/09/Curso_Verao_Biologia_Celular.jpg?x22217\n",
      "ops\n",
      "https://ww2.icb.usp.br/icb/wp-content/uploads/2019/11/SP_Cancer.jpg?x22217\n",
      "ops\n",
      "http://www.icb.usp.br/divulgacao\n",
      "ops\n"
     ]
    }
   ],
   "source": [
    "import re\n",
    "from icalendar import Calendar, Event\n",
    "import datetime as dt\n",
    "import os\n",
    "\n",
    "cal = Calendar()\n",
    "for event in event_list_items:\n",
    "    link = event.get(\"href\")\n",
    "    print(link)\n",
    "    try:\n",
    "        cal = ce.pegar_infos_do_icb(link, cal)\n",
    "    except:\n",
    "        print('ops')"
   ]
  },
  {
   "cell_type": "code",
   "execution_count": 60,
   "metadata": {},
   "outputs": [],
   "source": [
    "import re\n",
    "from icalendar import Calendar, Event\n",
    "import datetime as dt\n",
    "import os\n",
    "\n",
    "\n",
    "def pegar_infos_do_icb(link, cal):\n",
    "\n",
    "    page = requests.get(link)\n",
    "\n",
    "    soup = BeautifulSoup(page.text, 'html.parser')\n",
    "# Pull all text from the BodyText div\n",
    "    event_info = soup.find(class_='single_content')\n",
    "\n",
    "# Pull text from all instances of <a> tag within BodyText div\n",
    "    event_info_items = event_info.find_all('p')\n",
    "\n",
    "\n",
    "    titulo = soup.find(class_='single_tit').contents[0]\n",
    "    for info in event_info_items:\n",
    "        if \"Palestrante\" in str(info.contents[0]):\n",
    "                if len(info.contents[0]) == 1:\n",
    "                    palestrante = \"\"\n",
    "                else:\n",
    "                    palestrante = info.contents[1]\n",
    "        if \"Data\" in str(info.contents[0]):\n",
    "            data = info.contents[1]\n",
    "    \n",
    "    \n",
    "\n",
    "    event_info_items_all= event_info.find_all()\n",
    "\n",
    "    for j, info in enumerate(event_info_items_all):\n",
    "        if len(info.contents) > 2:\n",
    "            for i, elem in enumerate(info.contents):\n",
    "                if \"Horário:\" in str(elem) and len(info.contents) > i-1 :\n",
    "                    horario = info.contents[i+1]\n",
    "  \n",
    "    event_info_items_links= event_info.find_all(\"a\")\n",
    "\n",
    "    for links  in event_info_items_links:\n",
    "        local = links.contents[0]            \n",
    "                \n",
    "\n",
    "    print(link)\n",
    "    print(titulo)\n",
    "    print(palestrante)\n",
    "    print(horario)\n",
    "    print(data)\n",
    "    print(local)\n",
    "    \n",
    "    \n",
    "    \n",
    "    import datetime as dt\n",
    "\n",
    "    year = 2019\n",
    "    day = int(data[1:3])\n",
    "    month = int(data[4:6])\n",
    "\n",
    "    time_start = int(horario[1:3])\n",
    "\n",
    "    time_end = time_start + 1\n",
    "\n",
    "    event_start = dt.datetime(year, month, day, time_start, 0, 0)\n",
    "    event_end = dt.datetime(year, month, day, time_end, 0, 0)\n",
    "\n",
    "    print(local_date.strftime('%d/%m/%Y %H:%M:%S %Z'))\n",
    "    event = Event()\n",
    "    event.add('dtstart', event_start)\n",
    "    event.add('dtend', event_end)\n",
    "    event.add('summary', titulo )\n",
    "    event.add('location', local)\n",
    "    event.add('description', titulo + \"\\n\" + palestrante + \"\\n\" + link )\n",
    "    cal.add_component(event)\n",
    "\n",
    "\n",
    "    return(cal)"
   ]
  },
  {
   "cell_type": "code",
   "execution_count": 61,
   "metadata": {},
   "outputs": [
    {
     "name": "stdout",
     "output_type": "stream",
     "text": [
      "https://ww2.icb.usp.br/icb/capacitacao-uso-animais/\n",
      "Capacitação no Uso e Manejo de Animais de Laboratório\n",
      "ops\n",
      "https://ww2.icb.usp.br/icb/discutindo-a-pos-graduacao-nas-areas-biologicas/\n",
      "Discutindo a Pós-Graduação nas Áreas Biológicas\n",
      "\n",
      "ops\n",
      "ops\n",
      "ops\n",
      "ops\n",
      "ops\n",
      "https://ww2.icb.usp.br/icb/encerramento-do-ano-do-projeto-biocientista-mirim/\n",
      "Encerramento do ano do Projeto Biocientista Mirim\n",
      "ops\n",
      "ops\n",
      "ops\n",
      "ops\n",
      "ops\n",
      "ops\n",
      "https://ww2.icb.usp.br/icb/curso-de-ferias-em-imunologia/\n",
      "VII Curso de Férias em Imunologia\n",
      "ops\n",
      "ops\n",
      "ops\n",
      "ops\n"
     ]
    }
   ],
   "source": [
    "cal = Calendar()\n",
    "for event in event_list_items:\n",
    "    link = event.get(\"href\")\n",
    "    try:\n",
    "        cal = pegar_infos_do_icb(link, cal)\n",
    "    except:\n",
    "        print('ops')\n",
    "        "
   ]
  },
  {
   "cell_type": "code",
   "execution_count": 55,
   "metadata": {},
   "outputs": [],
   "source": [
    "import tempfile, os\n",
    "directory = tempfile.mkdtemp()\n",
    "f = open(os.path.join(directory, 'example.ics'), 'wb')\n",
    "f.write(cal.to_ical())\n",
    "f.close()"
   ]
  },
  {
   "cell_type": "code",
   "execution_count": 59,
   "metadata": {},
   "outputs": [
    {
     "data": {
      "text/plain": [
       "b'BEGIN:VCALENDAR\\r\\nEND:VCALENDAR\\r\\n'"
      ]
     },
     "execution_count": 59,
     "metadata": {},
     "output_type": "execute_result"
    }
   ],
   "source": [
    "cal.to_ical()\n",
    " "
   ]
  },
  {
   "cell_type": "code",
   "execution_count": null,
   "metadata": {},
   "outputs": [],
   "source": []
  },
  {
   "cell_type": "code",
   "execution_count": null,
   "metadata": {},
   "outputs": [],
   "source": []
  },
  {
   "cell_type": "code",
   "execution_count": null,
   "metadata": {},
   "outputs": [],
   "source": [
    "\n"
   ]
  },
  {
   "cell_type": "code",
   "execution_count": 52,
   "metadata": {},
   "outputs": [
    {
     "data": {
      "text/plain": [
       "'Auditório Trabulsi, ICB III'"
      ]
     },
     "execution_count": 52,
     "metadata": {},
     "output_type": "execute_result"
    }
   ],
   "source": [
    "local"
   ]
  },
  {
   "cell_type": "code",
   "execution_count": null,
   "metadata": {},
   "outputs": [],
   "source": [
    "en(info.contents)\n"
   ]
  }
 ],
 "metadata": {
  "kernelspec": {
   "display_name": "Python 3",
   "language": "python",
   "name": "python3"
  },
  "language_info": {
   "codemirror_mode": {
    "name": "ipython",
    "version": 3
   },
   "file_extension": ".py",
   "mimetype": "text/x-python",
   "name": "python",
   "nbconvert_exporter": "python",
   "pygments_lexer": "ipython3",
   "version": "3.6.5"
  }
 },
 "nbformat": 4,
 "nbformat_minor": 4
}
