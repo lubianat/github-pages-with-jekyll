{
 "cells": [
  {
   "cell_type": "markdown",
   "metadata": {},
   "source": [
    "Com o novo sistema do ICB, temos agora os arquivos .ics disponibilizados pelo instituto. Yay, sucesso.\n",
    "\n",
    "Para raspar isso de forma simples, vamos usar o Selenium para rodar o Python headless"
   ]
  },
  {
   "cell_type": "code",
   "execution_count": 33,
   "metadata": {},
   "outputs": [],
   "source": [
    "from selenium import webdriver\n",
    "from selenium.webdriver.common.keys import Keys\n",
    "\n",
    "driver = webdriver.Firefox()\n",
    "driver.get(\"https://ww3.icb.usp.br/calendario-de-eventos/mes/\")\n",
    "\n"
   ]
  },
  {
   "cell_type": "code",
   "execution_count": 36,
   "metadata": {},
   "outputs": [],
   "source": [
    "event_month = driver.find_elements_by_xpath('//*[@id=\"tribe-bar-date\"]')[0]\n",
    "event_month.clear()\n",
    "event_month.send_keys(\"04/2020\")\n",
    "event_button = driver.find_elements_by_xpath('/html/body/div[2]/div/div[2]/div/div[2]/div[2]/form/div/div/div/div[3]/input')[0]\n",
    "event_button.click()\n",
    "download_button = driver.find_elements_by_xpath('/html/body/div[2]/div/div[2]/div/div[2]/div[3]/a')[0]\n",
    "download_button.click()"
   ]
  },
  {
   "cell_type": "markdown",
   "metadata": {},
   "source": [
    "Hm, o site tem um bug que só baixa os eventos de janeiro. Fiz o report em 30/01/2020. Veremos.  Eles irão trabalhar no bug. Enquanto isso, vou tentar outra abordagem: pegar todos os links do calendário e raspar as páginas. \n"
   ]
  },
  {
   "cell_type": "code",
   "execution_count": 155,
   "metadata": {},
   "outputs": [],
   "source": [
    "from bs4 import BeautifulSoup\n",
    "import requests\n",
    "import re\n"
   ]
  },
  {
   "cell_type": "code",
   "execution_count": 156,
   "metadata": {},
   "outputs": [
    {
     "name": "stdout",
     "output_type": "stream",
     "text": [
      "https://ww3.icb.usp.br/eventos/ix-curso-de-verao-em-biologia-celular-e-do-desenvolvimento/\n",
      "https://ww3.icb.usp.br/eventos/neuromodulation-as-a-novel-approach-for-regulation-of-immune-and-metabolic-dysfunction/\n",
      "https://ww3.icb.usp.br/eventos/comprehensive-characterization-of-immune-cells-within-the-tumor-microenvironment/\n",
      "https://ww3.icb.usp.br/eventos/coronavirus-2019-mitos-e-realidade/\n",
      "https://ww3.icb.usp.br/eventos/seminarios-especiais-em-imunologia/\n",
      "https://ww3.icb.usp.br/eventos/prevencao-primaria-e-secundaria-para-cancer/\n"
     ]
    }
   ],
   "source": [
    "html_page = requests.get(\"https://ww3.icb.usp.br/calendario-de-eventos/mes/\")\n",
    "get_all_links(html_page)"
   ]
  },
  {
   "cell_type": "code",
   "execution_count": 179,
   "metadata": {},
   "outputs": [],
   "source": [
    "\n",
    "\n",
    "%run \"/home/lubianat/Documents/Projects/side/seminUSP/src/cal_extract.py\""
   ]
  },
  {
   "cell_type": "code",
   "execution_count": 180,
   "metadata": {},
   "outputs": [],
   "source": [
    "\n",
    "\n",
    "\n",
    "def get_event_ical(event_url):\n",
    "    event_page = requests.get(event_url)\n",
    "    event_soup = BeautifulSoup(event_page.text)\n",
    "\n",
    "    event_title = event_soup.find('h1',attrs={\"class\":\"tribe-events-single-event-title\"}, text = True)\n",
    "    event_title = event_title.get_text()\n",
    "    print(event_title)\n",
    "    infos = event_soup.find(class_=\"tribe-events-single-event-description tribe-events-content\")\n",
    "    info_text = infos.get_text()\n",
    "    magic_event = magic_extract_event(info_text)\n",
    "    magic_event.add('summary', event_title )\n",
    "    return(magic_event)\n",
    "\n",
    "\n"
   ]
  },
  {
   "cell_type": "code",
   "execution_count": null,
   "metadata": {},
   "outputs": [],
   "source": []
  },
  {
   "cell_type": "code",
   "execution_count": 181,
   "metadata": {},
   "outputs": [
    {
     "name": "stdout",
     "output_type": "stream",
     "text": [
      "IX Curso de Verão em Biologia Celular e do Desenvolvimento\n",
      "[]\n",
      "invalid literal for int() with base 10: 'a '\n",
      "Neuromodulation as a novel approach for regulation of immune and metabolic dysfunction\n",
      "[]\n",
      "list index out of range\n",
      "Comprehensive characterization of immune cells within the tumor microenvironment\n",
      "[]\n",
      "12\n",
      "Coronavírus 2019: Mitos e Realidade\n",
      "Prof. Sebastião Timo Iaria\n",
      "12\n",
      "Seminários Especiais em Imunologia\n",
      "[]\n",
      "14\n",
      "Prevenção Primária e Secundária para Câncer\n",
      "[]\n",
      "12\n",
      "local variable 'local_final' referenced before assignment\n"
     ]
    }
   ],
   "source": [
    "from icalendar import Calendar, Event\n",
    "import datetime as dt\n",
    "\n",
    "\n",
    "cal = Calendar()\n",
    "\n",
    "soup = BeautifulSoup(html_page.text)\n",
    "tags =  soup.find_all('a')\n",
    "for tag in tags:\n",
    "    link = tag.get('href')\n",
    "    if '/eventos/' in link:\n",
    "            try:\n",
    "                event_ical = get_event_ical(link)\n",
    "                cal.add_component(event_ical)\n",
    "            except Exception as ex:\n",
    "                print(ex)\n",
    "\n",
    "                import tempfile, os\n"
   ]
  },
  {
   "cell_type": "code",
   "execution_count": 182,
   "metadata": {},
   "outputs": [],
   "source": [
    "directory = tempfile.mkdtemp()\n",
    "f = open(os.path.join(directory, 'example.ics'), 'wb')\n",
    "f.write(cal.to_ical())\n",
    "f.close()"
   ]
  },
  {
   "cell_type": "code",
   "execution_count": null,
   "metadata": {},
   "outputs": [],
   "source": []
  }
 ],
 "metadata": {
  "kernelspec": {
   "display_name": "Python 3",
   "language": "python",
   "name": "python3"
  },
  "language_info": {
   "codemirror_mode": {
    "name": "ipython",
    "version": 3
   },
   "file_extension": ".py",
   "mimetype": "text/x-python",
   "name": "python",
   "nbconvert_exporter": "python",
   "pygments_lexer": "ipython3",
   "version": "3.6.5"
  }
 },
 "nbformat": 4,
 "nbformat_minor": 4
}
