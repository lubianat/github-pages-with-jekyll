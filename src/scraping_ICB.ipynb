{
 "cells": [
  {
   "cell_type": "markdown",
   "metadata": {},
   "source": [
    "Scraping da página de eventos do Instituto de Ciências Biomédicas da USP com Beautiful Soup.\n",
    "\n",
    "Página a ser raspada (com os eventos):\n",
    "https://ww2.icb.usp.br/icb/eventos/\n",
    "\n",
    "Objetivo: Obter todos os links.\n",
    "\n",
    "Etapa 2:\n",
    "Evento a ser raspado (exemplo):\n",
    "https://ww2.icb.usp.br/icb/evolution-systematics/"
   ]
  },
  {
   "cell_type": "code",
   "execution_count": 3,
   "metadata": {},
   "outputs": [],
   "source": [
    "import requests\n",
    "from bs4 import BeautifulSoup\n"
   ]
  },
  {
   "cell_type": "code",
   "execution_count": 5,
   "metadata": {},
   "outputs": [],
   "source": [
    "page = requests.get(\"https://ww2.icb.usp.br/icb/eventos/\")"
   ]
  },
  {
   "cell_type": "code",
   "execution_count": 8,
   "metadata": {},
   "outputs": [],
   "source": [
    "soup = BeautifulSoup(page.text, 'html.parser')\n",
    "\n",
    "\n",
    "# Pull all text from the BodyText div\n",
    "event_list = soup.find(class_='single_content')\n",
    "\n",
    "# Pull text from all instances of <a> tag within BodyText div\n",
    "event_list_items = artist_name_list.find_all('a')"
   ]
  },
  {
   "cell_type": "code",
   "execution_count": 13,
   "metadata": {},
   "outputs": [
    {
     "name": "stdout",
     "output_type": "stream",
     "text": [
      "https://ww2.icb.usp.br/icb/capacitacao-uso-animais/\n",
      "https://ww2.icb.usp.br/icb/evolution-systematics/\n",
      "https://ww2.icb.usp.br/icb/wp-content/uploads/2019/10/SINGLE_CELL_25-10-19.pdf?x89681\n",
      "https://jornal.usp.br/universidade/autismo-alimentos-e-crise-ambiental-fecham-a-programacao-do-usp-talks-2019/\n",
      "https://ww2.icb.usp.br/icb/wp-content/uploads/2019/10/Workshop_29-a-31-10-19.pdf?x89681\n",
      "https://ww2.icb.usp.br/icb/wp-content/uploads/2019/10/Palestra_PerkinElmer.pdf?x89681\n",
      "https://ww2.icb.usp.br/icb/wp-content/uploads/2019/10/Eduardo_Rodrigues_30-10-2019.pdf?x89681\n",
      "https://ww2.icb.usp.br/icb/structure-guided/\n",
      "https://ww2.icb.usp.br/icb/wp-content/uploads/2019/10/SemanaBiotec.jpg?x89681\n",
      "https://ww2.icb.usp.br/icb/wp-content/uploads/2019/10/Biotechnologies_05-11.jpg?x89681\n",
      "https://ww2.icb.usp.br/icb/wp-content/uploads/2019/10/Encontro_CEUAs_06-11-19.jpg?x89681\n",
      "https://ww2.icb.usp.br/icb/wp-content/uploads/2019/10/Empreendedorismo_06-11.jpg?x89681\n",
      "https://2019.cifarp.com.br/\n",
      "https://ww2.icb.usp.br/icb/wp-content/uploads/2019/10/mini_simposio_08-11-19.pdf?x89681\n",
      "https://ww2.icb.usp.br/icb/wp-content/uploads/2019/08/Treinamento_Elsevier.jpg?x89681\n",
      "https://ww2.icb.usp.br/icb/murder-mysteries/\n",
      "https://ww2.icb.usp.br/icb/wp-content/uploads/2019/07/Workshop_Nov_2019.pdf?x89681\n",
      "https://ww2.icb.usp.br/icb/wp-content/uploads/2019/10/Sequenciamento_NGS_25-11-19.pdf?x89681\n",
      "https://ww2.icb.usp.br/icb/metabolic-penknife/\n",
      "https://ww2.icb.usp.br/icb/wp-content/uploads/2019/09/Psicofarmacologia_clinica.png?x89681\n",
      "https://ww2.icb.usp.br/icb/wp-content/uploads/2019/08/Cartaz_CV_2020.pdf?x89681\n",
      "https://ww2.icb.usp.br/icb/wp-content/uploads/2019/10/Jornada_de_anatomia.pdf?x89681\n",
      "https://ww2.icb.usp.br/icb/curso-de-ferias-em-imunologia/\n",
      "https://ww2.icb.usp.br/icb/wp-content/uploads/2019/09/Curso_Verao_Biologia_Celular.jpg?x89681\n",
      "https://ww2.icb.usp.br/icb/wp-content/uploads/2019/10/PAINEIS_14-10-19.jpg?x89681\n",
      "http://www.icb.usp.br/divulgacao\n"
     ]
    }
   ],
   "source": [
    "for event in event_list_items:\n",
    "    print(event.get(\"href\"))"
   ]
  },
  {
   "cell_type": "raw",
   "metadata": {},
   "source": [
    "Primeira parte concluída com sucesso. Agora vamos à segunda parte.\n",
    "\n",
    "Para cada evento extrair: \n",
    "\n",
    "Nome\n",
    "Data\n",
    "Palestrante\n",
    "Horário\n",
    "Local\n",
    "\n",
    "Vamos fazer para o exemplo "
   ]
  },
  {
   "cell_type": "code",
   "execution_count": 108,
   "metadata": {},
   "outputs": [
    {
     "name": "stdout",
     "output_type": "stream",
     "text": [
      "<strong>Palestrante:</strong>\n",
      "[<strong>Palestrante:</strong>, ' Dr. Fernando Abad-Franch', <br/>, '\\nUnB']\n",
      " \n",
      "<strong>Data:</strong>\n",
      "[<strong>Data:</strong>, ' 25/10 (sexta-feira)', <br/>, '\\n', <strong>Horário:</strong>, ' 13h', <br/>, '\\n', <strong>Local:</strong>, ' ', <a href=\"https://ww2.icb.usp.br/icb/biomedicas-ii/\">Biomédicas II</a>, ', anexo didático']\n",
      " Dr. Fernando Abad-Franch\n",
      " 25/10 (sexta-feira)\n",
      "Evolution, systematics and biogeography of the triatominae, vectors of Chagas Disease\n"
     ]
    }
   ],
   "source": [
    "link = \"https://ww2.icb.usp.br/icb/evolution-systematics/\"\n",
    "\n",
    "\n",
    "page = requests.get(link)\n",
    "\n",
    "soup = BeautifulSoup(page.text, 'html.parser')\n",
    "# Pull all text from the BodyText div\n",
    "event_info = soup.find(class_='single_content')\n",
    "\n",
    "# Pull text from all instances of <a> tag within BodyText div\n",
    "event_info_items = event_info.find_all('p')\n",
    "\n",
    "\n",
    "titulo = soup.find(class_='single_tit').contents[0]\n",
    "\n",
    "\n",
    "\n",
    "\n",
    "\n",
    "palestrante = 'a'\n",
    "\n",
    "for info in event_info_items:\n",
    "    print(info.contents[0])\n",
    "    if \"Palestrante\" in str(info.contents[0]):\n",
    "        print(info.contents)\n",
    "        palestrante = info.contents[1]\n",
    "    if \"Data\" in str(info.contents[0]):\n",
    "        print(info.contents)\n",
    "        data = info.contents[1]\n",
    "   "
   ]
  },
  {
   "cell_type": "markdown",
   "metadata": {},
   "source": [
    "Show! Algumas coisas já achamos. Aparentemente a tag de \\<strong> circunda nosos alvos. Vamos tentar separar por \\<strong>"
   ]
  },
  {
   "cell_type": "code",
   "execution_count": 109,
   "metadata": {},
   "outputs": [
    {
     "name": "stdout",
     "output_type": "stream",
     "text": [
      "['Palestrante:']\n",
      "['Data:']\n",
      "['Horário:']\n",
      "['Local:']\n"
     ]
    }
   ],
   "source": [
    "event_info_items_bold = event_info.find_all('strong')\n",
    "\n",
    "for info in event_info_items_bold:\n",
    "    print(info.contents)"
   ]
  },
  {
   "cell_type": "markdown",
   "metadata": {},
   "source": [
    "Os valores que queremos, contudo, não estão em negrito. Bla. E se tentar pegar tudo e marcar o que tiver depois dos strongs?\n"
   ]
  },
  {
   "cell_type": "code",
   "execution_count": 110,
   "metadata": {},
   "outputs": [
    {
     "name": "stdout",
     "output_type": "stream",
     "text": [
      "<strong>Palestrante:</strong>\n",
      " Dr. Fernando Abad-Franch\n",
      "<br/>\n",
      "\n",
      "UnB\n",
      "<strong>Data:</strong>\n",
      " 25/10 (sexta-feira)\n",
      "<br/>\n",
      "\n",
      "\n",
      "<strong>Horário:</strong>\n",
      " 13h\n",
      " 13h\n",
      "<br/>\n",
      "\n",
      "\n",
      "<strong>Local:</strong>\n",
      " \n",
      "<a href=\"https://ww2.icb.usp.br/icb/biomedicas-ii/\">Biomédicas II</a>\n",
      ", anexo didático\n"
     ]
    }
   ],
   "source": [
    "event_info_items_all= event_info.find_all()\n",
    "\n",
    "for j, info in enumerate(event_info_items_all):\n",
    "    if len(info.contents) > 2:\n",
    "        for i, elem in enumerate(info.contents):\n",
    "            print(elem)\n",
    "            if \"Horário:\" in str(elem) and len(info.contents) > i-1 :\n",
    "                horario = info.contents[i+1]\n",
    "                print(horario)\n"
   ]
  },
  {
   "cell_type": "markdown",
   "metadata": {},
   "source": [
    "Ok, o horário ja foi. Falta só o local. Como o local está com um link, talvez seja até mais fácil."
   ]
  },
  {
   "cell_type": "code",
   "execution_count": 111,
   "metadata": {},
   "outputs": [
    {
     "name": "stdout",
     "output_type": "stream",
     "text": [
      "Biomédicas II\n"
     ]
    }
   ],
   "source": [
    "event_info_items_links= event_info.find_all(\"a\")\n",
    "\n",
    "for links  in event_info_items_links:\n",
    "    local = links.contents[0]\n",
    "\n",
    "print(local)"
   ]
  },
  {
   "cell_type": "code",
   "execution_count": 114,
   "metadata": {},
   "outputs": [
    {
     "name": "stdout",
     "output_type": "stream",
     "text": [
      "https://ww2.icb.usp.br/icb/evolution-systematics/\n",
      "Evolution, systematics and biogeography of the triatominae, vectors of Chagas Disease\n",
      " Dr. Fernando Abad-Franch\n",
      " 13h\n",
      " 25/10 (sexta-feira)\n",
      "Biomédicas II, anexo didático\n"
     ]
    }
   ],
   "source": [
    "for j, info in enumerate(event_info_items_all):\n",
    "    if len(info.contents) > 2:\n",
    "        for i, elem in enumerate(info.contents):\n",
    "            if local in str(elem) and len(info.contents) > i-1 :\n",
    "                local = local + info.contents[i+1]\n",
    "               \n",
    "                \n",
    "                \n",
    "print(link)\n",
    "print(titulo)\n",
    "print(palestrante)\n",
    "print(hora)\n",
    "print(data)\n",
    "print(local)"
   ]
  },
  {
   "cell_type": "markdown",
   "metadata": {},
   "source": [
    "Sucesso, agora temos todas as informações que precisamos. A etapa 3 é converter para formato do ical, de modo a ser possível upar no google calendar.\n",
    "\n",
    "\n",
    "Mas antes, vamos fazer uma função para automativar isso."
   ]
  },
  {
   "cell_type": "code",
   "execution_count": 120,
   "metadata": {},
   "outputs": [],
   "source": [
    "def pegar_infos(link):\n",
    "\n",
    "    page = requests.get(link)\n",
    "\n",
    "    soup = BeautifulSoup(page.text, 'html.parser')\n",
    "# Pull all text from the BodyText div\n",
    "    event_info = soup.find(class_='single_content')\n",
    "\n",
    "# Pull text from all instances of <a> tag within BodyText div\n",
    "    event_info_items = event_info.find_all('p')\n",
    "\n",
    "\n",
    "    titulo = soup.find(class_='single_tit').contents[0]\n",
    "    for info in event_info_items:\n",
    "        if \"Palestrante\" in str(info.contents[0]):\n",
    "            palestrante = info.contents[1]\n",
    "        if \"Data\" in str(info.contents[0]):\n",
    "            data = info.contents[1]\n",
    "    \n",
    "    \n",
    "\n",
    "    event_info_items_all= event_info.find_all()\n",
    "\n",
    "    for j, info in enumerate(event_info_items_all):\n",
    "        if len(info.contents) > 2:\n",
    "            for i, elem in enumerate(info.contents):\n",
    "                if \"Horário:\" in str(elem) and len(info.contents) > i-1 :\n",
    "                    horario = info.contents[i+1]\n",
    "  \n",
    "    event_info_items_links= event_info.find_all(\"a\")\n",
    "\n",
    "    for links  in event_info_items_links:\n",
    "        local = links.contents[0]            \n",
    "                \n",
    "    for j, info in enumerate(event_info_items_all):\n",
    "        if len(info.contents) > 2:\n",
    "            for i, elem in enumerate(info.contents):\n",
    "                if local in str(elem) and len(info.contents) > i-1 :\n",
    "                    local = local + info.contents[i+1]\n",
    "               \n",
    "                \n",
    "                \n",
    "    print(link)\n",
    "    print(titulo)\n",
    "    print(palestrante)\n",
    "    print(hora)\n",
    "    print(data)\n",
    "    print(local)\n",
    "    "
   ]
  },
  {
   "cell_type": "code",
   "execution_count": 122,
   "metadata": {},
   "outputs": [
    {
     "name": "stdout",
     "output_type": "stream",
     "text": [
      "https://ww2.icb.usp.br/icb/evolution-systematics/\n",
      "Evolution, systematics and biogeography of the triatominae, vectors of Chagas Disease\n",
      " Dr. Fernando Abad-Franch\n",
      " 13h\n",
      " 25/10 (sexta-feira)\n",
      "Biomédicas II, anexo didático\n"
     ]
    }
   ],
   "source": [
    "pegar_infos(\"https://ww2.icb.usp.br/icb/evolution-systematics/\")"
   ]
  },
  {
   "cell_type": "code",
   "execution_count": 128,
   "metadata": {},
   "outputs": [
    {
     "name": "stdout",
     "output_type": "stream",
     "text": [
      "https://ww2.icb.usp.br/icb/capacitacao-uso-animais/\n",
      "Capacitação no Uso e Manejo de Animais de Laboratório\n",
      "ops\n",
      "https://ww2.icb.usp.br/icb/evolution-systematics/\n",
      "Evolution, systematics and biogeography of the triatominae, vectors of Chagas Disease\n",
      " Dr. Fernando Abad-Franch\n",
      " 13h\n",
      " 25/10 (sexta-feira)\n",
      "Biomédicas II, anexo didático\n",
      "ops\n",
      "ops\n",
      "ops\n",
      "ops\n",
      "ops\n",
      "https://ww2.icb.usp.br/icb/structure-guided/\n",
      "Structure-guided development of potent, noncompetitive inhibitors of Trypanosoma brucei phosphofructokinase capable of curing infections in mice upon oral administration\n",
      " Dr. Paul Mitchels\n",
      " 13h\n",
      " 01/11 (sexta-feira)\n",
      "Biomédicas II, anexo didático\n",
      "ops\n",
      "ops\n",
      "ops\n",
      "ops\n",
      "ops\n",
      "ops\n",
      "ops\n",
      "https://ww2.icb.usp.br/icb/murder-mysteries/\n",
      "The murder mysteries of lung endothelium and blood brain barrier in Plasmodium berghei ANKA- infected mice\n",
      " Dra. Carla Claser\n",
      " 13h\n",
      " 22/11 (sexta-feira)\n",
      "Biomédicas II, anexo didático\n",
      "ops\n",
      "ops\n",
      "https://ww2.icb.usp.br/icb/metabolic-penknife/\n",
      "A “metabolic penknife” for the dangerous lifestyle of Trypanosoma cruzi\n",
      " Dr. Ariel Mariano Silber\n",
      " 13h\n",
      " 29/11 (sexta-feira)\n",
      "Biomédicas II, anexo didático\n",
      "ops\n",
      "ops\n",
      "ops\n",
      "ops\n",
      "ops\n",
      "ops\n",
      "ops\n"
     ]
    }
   ],
   "source": [
    "for event in event_list_items:\n",
    "    link = event.get(\"href\")\n",
    "    try:\n",
    "        pegar_infos(link)\n",
    "    except:\n",
    "        print('ops')"
   ]
  },
  {
   "cell_type": "code",
   "execution_count": null,
   "metadata": {},
   "outputs": [],
   "source": []
  }
 ],
 "metadata": {
  "kernelspec": {
   "display_name": "Python 3",
   "language": "python",
   "name": "python3"
  },
  "language_info": {
   "codemirror_mode": {
    "name": "ipython",
    "version": 3
   },
   "file_extension": ".py",
   "mimetype": "text/x-python",
   "name": "python",
   "nbconvert_exporter": "python",
   "pygments_lexer": "ipython3",
   "version": "3.6.5"
  }
 },
 "nbformat": 4,
 "nbformat_minor": 4
}
