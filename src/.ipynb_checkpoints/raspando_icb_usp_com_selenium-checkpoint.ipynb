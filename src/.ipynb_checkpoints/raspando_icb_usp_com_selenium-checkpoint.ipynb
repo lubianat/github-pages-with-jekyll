{
 "cells": [
  {
   "cell_type": "markdown",
   "metadata": {},
   "source": [
    "Com o novo sistema do ICB, temos agora os arquivos .ics disponibilizados pelo instituto. Yay, sucesso.\n",
    "\n",
    "Para raspar isso de forma simples, vamos usar o Selenium para rodar o Python headless"
   ]
  },
  {
   "cell_type": "code",
   "execution_count": 33,
   "metadata": {},
   "outputs": [],
   "source": [
    "from selenium import webdriver\n",
    "from selenium.webdriver.common.keys import Keys\n",
    "\n",
    "driver = webdriver.Firefox()\n",
    "driver.get(\"https://ww3.icb.usp.br/calendario-de-eventos/mes/\")\n",
    "\n"
   ]
  },
  {
   "cell_type": "code",
   "execution_count": 36,
   "metadata": {},
   "outputs": [],
   "source": [
    "event_month = driver.find_elements_by_xpath('//*[@id=\"tribe-bar-date\"]')[0]\n",
    "event_month.clear()\n",
    "event_month.send_keys(\"04/2020\")\n",
    "event_button = driver.find_elements_by_xpath('/html/body/div[2]/div/div[2]/div/div[2]/div[2]/form/div/div/div/div[3]/input')[0]\n",
    "event_button.click()\n",
    "download_button = driver.find_elements_by_xpath('/html/body/div[2]/div/div[2]/div/div[2]/div[3]/a')[0]\n",
    "download_button.click()"
   ]
  },
  {
   "cell_type": "markdown",
   "metadata": {},
   "source": [
    "Hm, o site tem um bug que só baixa os eventos de janeiro. Fiz o report em 30/01/2020. Veremos.  Eles irão trabalhar no bug. Enquanto isso, vou tentar outra abordagem: pegar todos os links do calendário e raspar as páginas. \n"
   ]
  },
  {
   "cell_type": "code",
   "execution_count": 31,
   "metadata": {},
   "outputs": [],
   "source": [
    "from bs4 import BeautifulSoup\n",
    "import requests\n",
    "import re\n"
   ]
  },
  {
   "cell_type": "code",
   "execution_count": 117,
   "metadata": {},
   "outputs": [
    {
     "name": "stdout",
     "output_type": "stream",
     "text": [
      "https://ww3.icb.usp.br/eventos/ix-curso-de-verao-em-biologia-celular-e-do-desenvolvimento/\n",
      "https://ww3.icb.usp.br/eventos/neuromodulation-as-a-novel-approach-for-regulation-of-immune-and-metabolic-dysfunction/\n",
      "https://ww3.icb.usp.br/eventos/comprehensive-characterization-of-immune-cells-within-the-tumor-microenvironment/\n",
      "https://ww3.icb.usp.br/eventos/coronavirus-2019-mitos-e-realidade/\n",
      "https://ww3.icb.usp.br/eventos/seminarios-especiais-em-imunologia/\n",
      "https://ww3.icb.usp.br/eventos/prevencao-primaria-e-secundaria-para-cancer/\n"
     ]
    }
   ],
   "source": [
    "html_page = requests.get(\"https://ww3.icb.usp.br/calendario-de-eventos/mes/\")\n",
    "get_all_links(html_page)"
   ]
  },
  {
   "cell_type": "code",
   "execution_count": 118,
   "metadata": {},
   "outputs": [],
   "source": [
    "\n",
    "\n",
    "%run \"/home/lubianat/Documents/Projects/side/seminUSP/src/cal_extract.py\""
   ]
  },
  {
   "cell_type": "code",
   "execution_count": 128,
   "metadata": {},
   "outputs": [],
   "source": [
    "\n",
    "\n",
    "\n",
    "def get_event_ical(event_url):\n",
    "    event_page = requests.get(event_url)\n",
    "    event_soup = BeautifulSoup(event_page.text)\n",
    "\n",
    "    event_title = event_soup.find('h1',attrs={\"class\":\"tribe-events-single-event-title\"}, text = True)\n",
    "    event_title = event_title.get_text()\n",
    "    infos = event_soup.find(class_=\"tribe-events-single-event-description tribe-events-content\")\n",
    "    info_text = infos.get_text()\n",
    "    print(info_text)\n",
    "    magic_event = magic_extract_event(info_text)\n",
    "    magic_event.add('summary', title )\n",
    "    print(magic_event)\n",
    "\n",
    "\n"
   ]
  },
  {
   "cell_type": "code",
   "execution_count": 129,
   "metadata": {},
   "outputs": [],
   "source": [
    "%run \"/home/lubianat/Documents/Projects/side/seminUSP/src/cal_extract.py\""
   ]
  },
  {
   "cell_type": "code",
   "execution_count": 133,
   "metadata": {},
   "outputs": [
    {
     "name": "stdout",
     "output_type": "stream",
     "text": [
      "https://ww3.icb.usp.br/eventos/ix-curso-de-verao-em-biologia-celular-e-do-desenvolvimento/\n",
      "\n",
      "Data: 27 a 31/01/2020\n",
      "Local: ICB-USP\n",
      " \n",
      "\n",
      "\n",
      "[]\n",
      "https://ww3.icb.usp.br/eventos/neuromodulation-as-a-novel-approach-for-regulation-of-immune-and-metabolic-dysfunction/\n",
      "\n",
      "Data: 31/01/2020\n",
      "Horário: 12:00\n",
      "Local: ICB IV, Anfiteatro Rosa\n",
      " \n",
      "Mais informações\n",
      "\n",
      "[]\n",
      "https://ww3.icb.usp.br/eventos/comprehensive-characterization-of-immune-cells-within-the-tumor-microenvironment/\n",
      "\n",
      "Palestrante: Dr. Tiago Medina\n",
      "A. C. Camargo Câncer Center\n",
      " \n",
      "Data: 05/02 (quarta-feira)\n",
      "Horário: 12h\n",
      "Local: ICB IV, anfiteatro rosa\n",
      " \n",
      "\n",
      " \n",
      " \n",
      "\n",
      "[]\n",
      "12\n",
      "https://ww3.icb.usp.br/eventos/coronavirus-2019-mitos-e-realidade/\n",
      "\n",
      "Data: 05/02\n",
      "Horário: 12h\n",
      "Local: ICB II, Anfiteatro “Prof. Sebastião Timo Iaria”\n",
      "Palestrante: Luiz Gustavo Bentim Góes\n",
      "Currículo Lattes\n",
      " \n",
      " \n",
      "\n",
      "Prof. Sebastião Timo Iaria\n",
      "12\n",
      "https://ww3.icb.usp.br/eventos/seminarios-especiais-em-imunologia/\n",
      "\n",
      "Palestrantes: Prof. Pedro Moraes Vieira e Prof. Bart Everts\n",
      "Data: 14/02 (sexta-feira)\n",
      "Horário: 14h\n",
      "Local: ICB IV, anfiteatro rosa\n",
      " \n",
      "\n",
      "\n",
      "[]\n",
      "14\n",
      "https://ww3.icb.usp.br/eventos/prevencao-primaria-e-secundaria-para-cancer/\n",
      "\n",
      "Data: 17/02/2020\n",
      "Horário: 9h30 às 12h30\n",
      "Local: Fapesp, Rua Pio XI, 1500 – Alto da Lapa – São Paulo\n",
      " \n",
      "Site\n",
      " \n",
      "\n",
      "\n",
      "[]\n",
      "12\n"
     ]
    }
   ],
   "source": [
    "from icalendar import Calendar, Event\n",
    "import datetime as dt\n",
    "\n",
    "\n",
    "cal = Calendar()\n",
    "\n",
    "soup = BeautifulSoup(html_page.text)\n",
    "tags =  soup.find_all('a')\n",
    "for tag in tags:\n",
    "    link = tag.get('href')\n",
    "    if '/eventos/' in link:\n",
    "            print(link)\n",
    "            try:\n",
    "                event_ical = get_event_ical(link)\n",
    "                cal.add_component(event_ical)\n",
    "            except:\n",
    "                pass\n",
    "    \n",
    "import tempfile, os\n",
    "directory = tempfile.mkdtemp()\n",
    "f = open(os.path.join(directory, 'example.ics'), 'wb')\n",
    "f.write(cal.to_ical())\n",
    "f.close()"
   ]
  },
  {
   "cell_type": "code",
   "execution_count": null,
   "metadata": {},
   "outputs": [],
   "source": []
  }
 ],
 "metadata": {
  "kernelspec": {
   "display_name": "Python 3",
   "language": "python",
   "name": "python3"
  },
  "language_info": {
   "codemirror_mode": {
    "name": "ipython",
    "version": 3
   },
   "file_extension": ".py",
   "mimetype": "text/x-python",
   "name": "python",
   "nbconvert_exporter": "python",
   "pygments_lexer": "ipython3",
   "version": "3.6.5"
  }
 },
 "nbformat": 4,
 "nbformat_minor": 4
}
