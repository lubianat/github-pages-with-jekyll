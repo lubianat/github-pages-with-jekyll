{
 "cells": [
  {
   "cell_type": "code",
   "execution_count": 108,
   "metadata": {},
   "outputs": [
    {
     "name": "stdout",
     "output_type": "stream",
     "text": [
      "MPSC BS\n",
      "RR RERIS TR ES o UR TS RR\n",
      "\n",
      "Características dos\n",
      "Estudos Sociais e\n",
      "Culturais das Ciências\n",
      "\n",
      "01/11 - Science studies: afinal, o que é isso?\n",
      "gs Ivã Gurgel (Instituto de Física — USP).\n",
      "\n",
      "08/11 — Por uma dialética das controvérsias: o fim\n",
      "do modelo positivista na história das ciências.\n",
      "» Gildo Magalhães (Faculdade de Filosofia, Letras e\n",
      "Ciências Humanas — USP).\n",
      "\n",
      "822/11 — Ciência e pós-verdade.\n",
      "g Stelio Marras (Instituto de Estudos Brasileiros — USP).\n",
      "\n",
      "206/12 — A ciência como espaço de lutas: para além\n",
      "da ideia de comunidade científica.\n",
      "ss Graciella Watanabe (Universidade Federal do ABC).\n",
      "\n",
      "sSextas-feiras, às 14h30: Sala 2017, Instituto de Física - USP\n",
      "Org: TeHCo — Grupo de Teoria e História dos Conhecimentos\n",
      "\n",
      "Sobre transmissão: http://portal.if.usp.br/tehco/\n"
     ]
    }
   ],
   "source": [
    "import pytesseract as ocr\n",
    "\n",
    "from PIL import Image\n",
    "\n",
    "\n",
    "phrase = ocr.image_to_string(Image.open('../data/temp.jpeg'), lang='por')\n",
    "print(phrase)"
   ]
  },
  {
   "cell_type": "markdown",
   "metadata": {},
   "source": [
    "Encontrando todas as datas:"
   ]
  },
  {
   "cell_type": "code",
   "execution_count": 110,
   "metadata": {},
   "outputs": [
    {
     "name": "stdout",
     "output_type": "stream",
     "text": [
      "14\n",
      "30\n"
     ]
    },
    {
     "ename": "TypeError",
     "evalue": "expected string or bytes-like object",
     "output_type": "error",
     "traceback": [
      "\u001b[0;31m---------------------------------------------------------------------------\u001b[0m",
      "\u001b[0;31mTypeError\u001b[0m                                 Traceback (most recent call last)",
      "\u001b[0;32m<ipython-input-110-171116c70c52>\u001b[0m in \u001b[0;36m<module>\u001b[0;34m\u001b[0m\n\u001b[1;32m     27\u001b[0m \u001b[0;34m\u001b[0m\u001b[0m\n\u001b[1;32m     28\u001b[0m \u001b[0mpattern_local\u001b[0m \u001b[0;34m=\u001b[0m \u001b[0;34mr'(Sala .*)'\u001b[0m\u001b[0;34m\u001b[0m\u001b[0;34m\u001b[0m\u001b[0m\n\u001b[0;32m---> 29\u001b[0;31m \u001b[0mlocal\u001b[0m \u001b[0;34m=\u001b[0m \u001b[0mre\u001b[0m\u001b[0;34m.\u001b[0m\u001b[0mfindall\u001b[0m\u001b[0;34m(\u001b[0m\u001b[0mpattern_local\u001b[0m\u001b[0;34m,\u001b[0m \u001b[0mevent\u001b[0m\u001b[0;34m)\u001b[0m\u001b[0;34m\u001b[0m\u001b[0;34m\u001b[0m\u001b[0m\n\u001b[0m\u001b[1;32m     30\u001b[0m \u001b[0;32mif\u001b[0m \u001b[0mlocal\u001b[0m\u001b[0;34m:\u001b[0m\u001b[0;34m\u001b[0m\u001b[0;34m\u001b[0m\u001b[0m\n\u001b[1;32m     31\u001b[0m     \u001b[0mlocal\u001b[0m \u001b[0;34m=\u001b[0m \u001b[0mlocal\u001b[0m\u001b[0;34m[\u001b[0m\u001b[0;36m0\u001b[0m\u001b[0;34m]\u001b[0m\u001b[0;34m\u001b[0m\u001b[0;34m\u001b[0m\u001b[0m\n",
      "\u001b[0;32m~/anaconda3/lib/python3.7/re.py\u001b[0m in \u001b[0;36mfindall\u001b[0;34m(pattern, string, flags)\u001b[0m\n\u001b[1;32m    221\u001b[0m \u001b[0;34m\u001b[0m\u001b[0m\n\u001b[1;32m    222\u001b[0m     Empty matches are included in the result.\"\"\"\n\u001b[0;32m--> 223\u001b[0;31m     \u001b[0;32mreturn\u001b[0m \u001b[0m_compile\u001b[0m\u001b[0;34m(\u001b[0m\u001b[0mpattern\u001b[0m\u001b[0;34m,\u001b[0m \u001b[0mflags\u001b[0m\u001b[0;34m)\u001b[0m\u001b[0;34m.\u001b[0m\u001b[0mfindall\u001b[0m\u001b[0;34m(\u001b[0m\u001b[0mstring\u001b[0m\u001b[0;34m)\u001b[0m\u001b[0;34m\u001b[0m\u001b[0;34m\u001b[0m\u001b[0m\n\u001b[0m\u001b[1;32m    224\u001b[0m \u001b[0;34m\u001b[0m\u001b[0m\n\u001b[1;32m    225\u001b[0m \u001b[0;32mdef\u001b[0m \u001b[0mfinditer\u001b[0m\u001b[0;34m(\u001b[0m\u001b[0mpattern\u001b[0m\u001b[0;34m,\u001b[0m \u001b[0mstring\u001b[0m\u001b[0;34m,\u001b[0m \u001b[0mflags\u001b[0m\u001b[0;34m=\u001b[0m\u001b[0;36m0\u001b[0m\u001b[0;34m)\u001b[0m\u001b[0;34m:\u001b[0m\u001b[0;34m\u001b[0m\u001b[0;34m\u001b[0m\u001b[0m\n",
      "\u001b[0;31mTypeError\u001b[0m: expected string or bytes-like object"
     ]
    }
   ],
   "source": [
    "import re\n",
    "from icalendar import Calendar, Event\n",
    "import datetime as dt\n",
    "\n",
    "cal = Calendar()\n",
    "\n",
    "\n",
    "\n",
    "\n",
    "pattern_hora = r'([0-9][0-9])h'\n",
    "hora = re.findall(pattern_hora, phrase)\n",
    "if hora:\n",
    "    hora = int(hora[0])\n",
    "    print(hora)\n",
    "\n",
    "\n",
    "pattern_minuto = r'h([0-9][0-9])'\n",
    "minuto = re.findall(pattern_minuto, phrase)\n",
    "if minuto:\n",
    "    minuto = int(minuto[0])\n",
    "    print(minuto)\n",
    "\n",
    "\n",
    "ano = 2019\n",
    "    \n",
    "\n",
    "\n",
    "pattern_local = r'(Sala .*)'\n",
    "local = re.findall(pattern_local, event)\n",
    "if local:\n",
    "    local = local[0]\n",
    "    print(local)\n",
    "\n",
    "\n",
    "\n",
    "#Get the beggining of each date\n",
    "beg = 0\n",
    "for index, m in enumerate(re.finditer(pattern_dia, phrase)):\n",
    "    print(index)\n",
    "    if index == 0:\n",
    "        continue\n",
    "    end = m.span()[0]\n",
    "    event = phrase[beg:end]\n",
    "    print(event)\n",
    "    \n",
    "    #######\n",
    "    pattern_dia = r'([0-9][0-9])/'\n",
    "    dia = re.findall(pattern_dia, event)\n",
    "    if dia:\n",
    "        dia = int(dia[0])\n",
    "        print(type(dia))\n",
    "    print(dia)\n",
    "    \n",
    "    #######\n",
    "    pattern_mes = r'/([0-9][0-9])'\n",
    "    mes = re.findall(pattern_mes, event)\n",
    "    if mes:\n",
    "        mes = int(mes[0])\n",
    "    mes = mes\n",
    "    print(mes) \n",
    "    \n",
    "    ####### \n",
    "    pattern_titulo = r'[—-] (.*?[\\?\\.])'\n",
    "    titulo = re.search(pattern_titulo, event, flags=re.S)\n",
    "    if (titulo):\n",
    "        titulo = titulo.group()\n",
    "        print(titulo) \n",
    "\n",
    "    \n",
    "    \n",
    "    #######\n",
    "    \n",
    "    event_start = dt.datetime(ano, mes, dia, hora, minuto, 0)\n",
    "    event_end = dt.datetime(ano, mes, dia, hora + 1, minuto, 0)\n",
    "    \n",
    "    event = Event()\n",
    "    event.add('dtstart', event_start)\n",
    "    event.add('dtend', event_end)\n",
    "    event.add('summary', titulo )\n",
    "    event.add('location', local)\n",
    "    event.add('description', titulo + \"\\n\" + \"part of \\n\" +phrase)\n",
    "    cal.add_component(event)\n",
    "    \n",
    "    #######\n",
    "    beg = end\n",
    "\n",
    "event = phrase[beg:-1]\n",
    "#######\n",
    "pattern_dia = r'([0-3][0-9])/'\n",
    "dia = re.findall(pattern_dia, event)\n",
    "if dia:\n",
    "    dia = int(dia[0])\n",
    "print(dia)\n",
    "    \n",
    "#######\n",
    "pattern_mes = r'/([0-1][0-9])'\n",
    "mes = re.findall(pattern_mes, event)\n",
    "if mes:\n",
    "    mes = int(mes[0])\n",
    "mes = mes\n",
    "print(mes) \n",
    "\n",
    "####### \n",
    "pattern_titulo = r'[—-] (.*?[\\?\\.])'\n",
    "titulo = re.search(pattern_titulo, event, flags=re.S)\n",
    "if (titulo):\n",
    "    titulo = titulo.group()\n",
    "    print(titulo) \n"
   ]
  },
  {
   "cell_type": "code",
   "execution_count": 106,
   "metadata": {},
   "outputs": [
    {
     "ename": "TypeError",
     "evalue": "'int' object is not subscriptable",
     "output_type": "error",
     "traceback": [
      "\u001b[0;31m---------------------------------------------------------------------------\u001b[0m",
      "\u001b[0;31mTypeError\u001b[0m                                 Traceback (most recent call last)",
      "\u001b[0;32m<ipython-input-106-4b799422343f>\u001b[0m in \u001b[0;36m<module>\u001b[0;34m\u001b[0m\n\u001b[1;32m      1\u001b[0m \u001b[0mtype\u001b[0m\u001b[0;34m(\u001b[0m\u001b[0mdia\u001b[0m\u001b[0;34m)\u001b[0m\u001b[0;34m\u001b[0m\u001b[0;34m\u001b[0m\u001b[0m\n\u001b[0;32m----> 2\u001b[0;31m \u001b[0mdia\u001b[0m\u001b[0;34m[\u001b[0m\u001b[0;36m0\u001b[0m\u001b[0;34m]\u001b[0m\u001b[0;34m\u001b[0m\u001b[0;34m\u001b[0m\u001b[0m\n\u001b[0m",
      "\u001b[0;31mTypeError\u001b[0m: 'int' object is not subscriptable"
     ]
    }
   ],
   "source": [
    "type(dia)\n",
    "dia[0]"
   ]
  },
  {
   "cell_type": "code",
   "execution_count": null,
   "metadata": {},
   "outputs": [],
   "source": []
  }
 ],
 "metadata": {
  "kernelspec": {
   "display_name": "Python 3",
   "language": "python",
   "name": "python3"
  },
  "language_info": {
   "codemirror_mode": {
    "name": "ipython",
    "version": 3
   },
   "file_extension": ".py",
   "mimetype": "text/x-python",
   "name": "python",
   "nbconvert_exporter": "python",
   "pygments_lexer": "ipython3",
   "version": "3.7.3"
  }
 },
 "nbformat": 4,
 "nbformat_minor": 4
}
