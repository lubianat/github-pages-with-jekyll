{
 "cells": [
  {
   "cell_type": "code",
   "execution_count": 2,
   "metadata": {},
   "outputs": [
    {
     "name": "stdout",
     "output_type": "stream",
     "text": [
      "UMA VISÃO INTERDISCIPLINAR\n",
      "\n",
      "0,\n",
      "a] TÓPICOS ATUAIS DA RELAÇÃO ENTRE\n",
      "FILOSOFIA E CIÊNCIAS BIOLÓGICAS:\n",
      "\n",
      " \n",
      "\n",
      "Maurício Ramos (FFLCH/USP)\n",
      "Francisco Rômulo Ferreira (UFRJ)\n",
      "\n",
      "“Qual é afinal a relação entre Filosofia e\n",
      "Ciências Biológicas?”\n",
      "\n",
      " \n",
      "\n",
      "Quinta-feira, 31 de outubro de 2019, 15 h\n",
      "\n",
      "Anfiteatro Geral da Botânica\n",
      "Instituto de Biociências - Universidade de São Paulo\n"
     ]
    }
   ],
   "source": [
    "import pytesseract as ocr\n",
    "\n",
    "from PIL import Image\n",
    "\n",
    "\n",
    "phrase = ocr.image_to_string(Image.open('../data/gorila31.png'), lang='por')\n",
    "print(phrase)"
   ]
  },
  {
   "cell_type": "code",
   "execution_count": 41,
   "metadata": {},
   "outputs": [
    {
     "name": "stdout",
     "output_type": "stream",
     "text": [
      "['Qual é afinal a relação entre Filosofia e Ciências Biológicas?']\n"
     ]
    }
   ],
   "source": [
    "import re\n",
    "\n",
    "pattern = r'“([\\s\\S]*?)”'\n",
    "m = re.findall(pattern, phrase)\n",
    "\n",
    " \n",
    "titulo = str(m).replace(\"\\\\n\", \" \") \n",
    "print(title)"
   ]
  },
  {
   "cell_type": "raw",
   "metadata": {},
   "source": []
  },
  {
   "cell_type": "code",
   "execution_count": 49,
   "metadata": {},
   "outputs": [
    {
     "name": "stdout",
     "output_type": "stream",
     "text": [
      "15\n"
     ]
    }
   ],
   "source": [
    "h_solto = phrase.find(\" h\\n\") \n",
    "\n",
    "\n",
    "horario = str(phrase[h_solto-2:h_solto])\n",
    "print(horario)"
   ]
  },
  {
   "cell_type": "code",
   "execution_count": 61,
   "metadata": {},
   "outputs": [
    {
     "name": "stdout",
     "output_type": "stream",
     "text": [
      "10\n",
      "31\n"
     ]
    }
   ],
   "source": [
    "meses = [\"janeiro\", \"fevereiro\", \"março\", \"abril\", \"maio\", \"junho\", \"julho\", \"agosto\", \"setembro\", \"outubro\", \"novembro\", \"dezembro\"]\n",
    "\n",
    "for index , mes in enumerate(meses):\n",
    "    if mes in phrase:\n",
    "        mes_n = index + 1\n",
    "        inicio_mes = h_solto = phrase.find(mes) \n",
    "        dia = phrase[inicio_mes-6:inicio_mes-4]\n",
    "\n",
    "print(mes_n)\n",
    "print(dia)"
   ]
  },
  {
   "cell_type": "code",
   "execution_count": null,
   "metadata": {},
   "outputs": [],
   "source": []
  }
 ],
 "metadata": {
  "kernelspec": {
   "display_name": "Python 3",
   "language": "python",
   "name": "python3"
  },
  "language_info": {
   "codemirror_mode": {
    "name": "ipython",
    "version": 3
   },
   "file_extension": ".py",
   "mimetype": "text/x-python",
   "name": "python",
   "nbconvert_exporter": "python",
   "pygments_lexer": "ipython3",
   "version": "3.6.5"
  }
 },
 "nbformat": 4,
 "nbformat_minor": 4
}
