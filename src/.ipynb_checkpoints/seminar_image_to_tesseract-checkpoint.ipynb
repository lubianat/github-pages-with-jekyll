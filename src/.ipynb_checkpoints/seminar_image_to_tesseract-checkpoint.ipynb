{
 "cells": [
  {
   "cell_type": "code",
   "execution_count": 3,
   "metadata": {},
   "outputs": [
    {
     "name": "stdout",
     "output_type": "stream",
     "text": [
      "UMA VISÃO INTERDISCIPLINAR\n",
      "\n",
      "0,\n",
      "a] TÓPICOS ATUAIS DA RELAÇÃO ENTRE\n",
      "FILOSOFIA E CIÊNCIAS BIOLÓGICAS:\n",
      "\n",
      " \n",
      "\n",
      "Maurício Ramos (FFLCH/USP)\n",
      "Francisco Rômulo Ferreira (UFRJ)\n",
      "\n",
      "“Qual é afinal a relação entre Filosofia e\n",
      "Ciências Biológicas?”\n",
      "\n",
      " \n",
      "\n",
      "Quinta-feira, 31 de outubro de 2019, 15 h\n",
      "\n",
      "Anfiteatro Geral da Botânica\n",
      "Instituto de Biociências - Universidade de São Paulo\n"
     ]
    }
   ],
   "source": [
    "import pytesseract as ocr\n",
    "\n",
    "from PIL import Image\n",
    "\n",
    "\n",
    "phrase = ocr.image_to_string(Image.open('../data/gorila31.png'), lang='por')\n",
    "print(phrase)"
   ]
  },
  {
   "cell_type": "code",
   "execution_count": 5,
   "metadata": {},
   "outputs": [
    {
     "name": "stdout",
     "output_type": "stream",
     "text": [
      "['Qual é afinal a relação entre Filosofia e Ciências Biológicas?']\n"
     ]
    }
   ],
   "source": [
    "import re\n",
    "\n",
    "pattern = r'“([\\s\\S]*?)”'\n",
    "m = re.findall(pattern, phrase)\n",
    "\n",
    " \n",
    "titulo = str(m).replace(\"\\\\n\", \" \") \n",
    "print(titulo)"
   ]
  },
  {
   "cell_type": "raw",
   "metadata": {},
   "source": []
  },
  {
   "cell_type": "code",
   "execution_count": 6,
   "metadata": {},
   "outputs": [
    {
     "name": "stdout",
     "output_type": "stream",
     "text": [
      "15\n"
     ]
    }
   ],
   "source": [
    "h_solto = phrase.find(\" h\\n\") \n",
    "\n",
    "\n",
    "horario = str(phrase[h_solto-2:h_solto])\n",
    "print(horario)"
   ]
  },
  {
   "cell_type": "code",
   "execution_count": 7,
   "metadata": {},
   "outputs": [
    {
     "name": "stdout",
     "output_type": "stream",
     "text": [
      "10\n",
      "31\n"
     ]
    }
   ],
   "source": [
    "meses = [\"janeiro\", \"fevereiro\", \"março\", \"abril\", \"maio\", \"junho\", \"julho\", \"agosto\", \"setembro\", \"outubro\", \"novembro\", \"dezembro\"]\n",
    "\n",
    "for index , mes in enumerate(meses):\n",
    "    if mes in phrase:\n",
    "        mes_n = index + 1\n",
    "        inicio_mes = h_solto = phrase.find(mes) \n",
    "        dia = phrase[inicio_mes-6:inicio_mes-4]\n",
    "\n",
    "print(mes_n)\n",
    "print(dia)"
   ]
  },
  {
   "cell_type": "code",
   "execution_count": 9,
   "metadata": {},
   "outputs": [
    {
     "name": "stdout",
     "output_type": "stream",
     "text": [
      "IB-USP R Users Convida:\n",
      "\n",
      "\"A gramática dos gráficos: uma introdução ao ggplot2\"\n",
      "\n",
      "ggplot2\n",
      "\n",
      "Data: 29/10 (Próxima Terça)\n",
      "Horário: 13h\n",
      "Local: Auditório 1 do CD\n",
      "\n",
      " \n",
      "\n",
      "Diogo Melo\n",
      "Pós Doc\n",
      "Departamento de Genética e Biologia Evolutiva\n"
     ]
    }
   ],
   "source": [
    "import pytesseract as ocr\n",
    "\n",
    "from PIL import Image\n",
    "\n",
    "\n",
    "phrase = ocr.image_to_string(Image.open('../data/palestraR.png'), lang='por')\n",
    "print(phrase)"
   ]
  },
  {
   "cell_type": "code",
   "execution_count": 30,
   "metadata": {},
   "outputs": [
    {
     "name": "stdout",
     "output_type": "stream",
     "text": [
      " A gramática dos gráficos: uma introdução ao ggplot2  29 10 13 Auditório 1 do CD\n"
     ]
    }
   ],
   "source": [
    "phrase = phrase.replace(\"“\", '\"')\n",
    "phrase = phrase.replace(\"”\", '\"')\n",
    "\n",
    "\n",
    "data_index = phrase.find(\"Data: \")\n",
    "\n",
    "dia = phrase[data_index+6:data_index+8]\n",
    "mes = phrase[data_index+9:data_index+11]\n",
    "\n",
    "horario_index = phrase.find(\"Horário: \")\n",
    "\n",
    "horario = phrase[horario_index+9:horario_index+11]\n",
    "\n",
    "local_index = phrase.find(\"Local\")\n",
    "local_end = phrase.find(\"\\n\",local_index )\n",
    "\n",
    "local = phrase[local_index +  7:local_end]\n",
    "\n",
    "pattern = r'\"([\\s\\S]*?)\"'\n",
    "m = re.findall(pattern, phrase)\n",
    "\n",
    " \n",
    "titulo = str(m).replace(\"\\\\n\", \" \")\n",
    "titulo = str(titulo).replace(\"['\", \" \")\n",
    "titulo = str(titulo).replace(\"']\", \" \")\n",
    "print(titulo, dia, mes,horario, local)"
   ]
  },
  {
   "cell_type": "code",
   "execution_count": null,
   "metadata": {},
   "outputs": [],
   "source": []
  }
 ],
 "metadata": {
  "kernelspec": {
   "display_name": "Python 3",
   "language": "python",
   "name": "python3"
  },
  "language_info": {
   "codemirror_mode": {
    "name": "ipython",
    "version": 3
   },
   "file_extension": ".py",
   "mimetype": "text/x-python",
   "name": "python",
   "nbconvert_exporter": "python",
   "pygments_lexer": "ipython3",
   "version": "3.7.3"
  }
 },
 "nbformat": 4,
 "nbformat_minor": 4
}
