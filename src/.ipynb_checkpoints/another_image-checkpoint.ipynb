{
 "cells": [
  {
   "cell_type": "code",
   "execution_count": 3,
   "metadata": {},
   "outputs": [
    {
     "name": "stdout",
     "output_type": "stream",
     "text": [
      "O Centro de Facilidades de Apoio à Pesquisa -\n",
      "\n",
      "CEFAP-USP convida para a palestra\n",
      "\n",
      " \n",
      "\n",
      "Desenho experimental e preparo de amostras\n",
      "para análise in vivo equipamento IVIS\n",
      "\n",
      "Vivek R. Shinde Patil, PhD\n",
      "Director of Field Application Scientists | High Content and In Vivo Imaging |\n",
      "Americas\n",
      "PerkinElmer, Inc | Discovery & Analytical Solutions\n",
      "\n",
      "30 de Outubro de 2019, 10h00\n",
      "Anfiteatro CEFAP - ICB 4 — USP\n",
      "\n",
      " \n",
      "\n",
      "A palestra terá como foco o desenho experimental e como devem ser preparados os animais no\n",
      "equipamento IVIS utilizando sondas, linhagens celulares e bactérias. Serão abordado alguns\n",
      "temas como capacidade do equipamento, exemplos e métodos de utilização. Métodos\n",
      "alternativos como controle de qualidade em transfecção, análise de plantas e zebrafish e\n",
      "equipamentos complementares.\n"
     ]
    }
   ],
   "source": [
    "import pytesseract as ocr\n",
    "\n",
    "from PIL import Image\n",
    "\n",
    "\n",
    "phrase = ocr.image_to_string(Image.open('../data/IVIS.png'), lang='por')\n",
    "print(phrase)"
   ]
  },
  {
   "cell_type": "code",
   "execution_count": 42,
   "metadata": {},
   "outputs": [
    {
     "name": "stdout",
     "output_type": "stream",
     "text": [
      "10\n"
     ]
    }
   ],
   "source": [
    "import re\n",
    "\n",
    "pattern = r'([0-9][0-9])h'\n",
    "horario = int(re.findall(pattern, phrase)[0])\n",
    " \n",
    "\n",
    "print(horario)"
   ]
  },
  {
   "cell_type": "code",
   "execution_count": 46,
   "metadata": {},
   "outputs": [
    {
     "name": "stdout",
     "output_type": "stream",
     "text": [
      "340\n",
      "10\n",
      "30\n"
     ]
    }
   ],
   "source": [
    "meses = [\"janeiro\", \"fevereiro\", \"março\", \"abril\", \"maio\", \"junho\", \"julho\", \"agosto\", \"setembro\", \"outubro\", \"novembro\", \"dezembro\"]\n",
    "\n",
    "for index , mes in enumerate(meses):\n",
    "    if mes in phrase.lower():\n",
    "        mes_n = index + 1\n",
    "        inicio_mes = phrase.lower().find(mes)\n",
    "        dia = phrase[inicio_mes-6:inicio_mes-4]\n",
    "\n",
    "print(mes_n)\n",
    "print(dia)"
   ]
  }
 ],
 "metadata": {
  "kernelspec": {
   "display_name": "Python 3",
   "language": "python",
   "name": "python3"
  },
  "language_info": {
   "codemirror_mode": {
    "name": "ipython",
    "version": 3
   },
   "file_extension": ".py",
   "mimetype": "text/x-python",
   "name": "python",
   "nbconvert_exporter": "python",
   "pygments_lexer": "ipython3",
   "version": "3.7.3"
  }
 },
 "nbformat": 4,
 "nbformat_minor": 4
}
