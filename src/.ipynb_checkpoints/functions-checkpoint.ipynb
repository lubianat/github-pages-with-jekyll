{
 "cells": [
  {
   "cell_type": "code",
   "execution_count": 44,
   "metadata": {},
   "outputs": [],
   "source": [
    "import re\n",
    "from icalendar import Calendar, Event\n",
    "import datetime as dt\n",
    "\n",
    "\n",
    "def extract_title_from_quotes(text):\n",
    "\n",
    "    pattern = r'“([\\s\\S]*?)”'\n",
    "    m = re.findall(pattern, text)\n",
    "    title = str(m).replace(\"\\\\n\", \" \")\n",
    "    title = str(title).replace(\"['\", \"\")\n",
    "    title = str(title).replace(\"']\", \"\")\n",
    "    print(title)\n",
    "    return(title)\n",
    "\n",
    "def extract_date(text):\n",
    "    meses = [\"janeiro\", \"fevereiro\", \"março\", \"abril\", \"maio\", \"junho\", \"julho\", \"agosto\", \"setembro\", \"outubro\", \"novembro\", \"dezembro\"]\n",
    "\n",
    "    for index , mes in enumerate(meses):\n",
    "        if mes in phrase:\n",
    "            mes_n = index + 1\n",
    "            inicio_mes = phrase.find(mes) \n",
    "            dia = phrase[inicio_mes-6:inicio_mes-4]\n",
    "            \n",
    "    if phrase.find('2019'):\n",
    "        ano = \"2019\"\n",
    "    elif phrase.find('2020'):\n",
    "        ano = \"2020\"\n",
    "    \n",
    "    return(dia, mes_n,ano)\n",
    "\n",
    "\n",
    "## Extrac time based on a dangling \"h\"\n",
    "\n",
    "def extract_time(text):\n",
    "    h_solto = phrase.find(\" h\\n\") \n",
    "    horario = str(phrase[h_solto-2:h_solto])\n",
    "    return(horario)\n",
    "\n",
    "\n",
    "def extract_place(text):\n",
    "    locais = ['anfiteatro', 'auditório', 'auditorio']\n",
    "\n",
    "    for index , local in enumerate(locais):\n",
    "        if local in phrase.lower():\n",
    "            inicio_local = phrase.lower().find(local)\n",
    "            fim_local = phrase.lower().find(\"\\n\", inicio_local)\n",
    "            local_final = phrase[inicio_local : fim_local]\n",
    "\n",
    "    return(local_final)\n",
    "\n",
    "\n",
    "    "
   ]
  },
  {
   "cell_type": "code",
   "execution_count": 31,
   "metadata": {},
   "outputs": [
    {
     "name": "stdout",
     "output_type": "stream",
     "text": [
      "UMA VISÃO INTERDISCIPLINAR\n",
      "\n",
      "0,\n",
      "a] TÓPICOS ATUAIS DA RELAÇÃO ENTRE\n",
      "FILOSOFIA E CIÊNCIAS BIOLÓGICAS:\n",
      "\n",
      " \n",
      "\n",
      "Maurício Ramos (FFLCH/USP)\n",
      "Francisco Rômulo Ferreira (UFRJ)\n",
      "\n",
      "“Qual é afinal a relação entre Filosofia e\n",
      "Ciências Biológicas?”\n",
      "\n",
      " \n",
      "\n",
      "Quinta-feira, 31 de outubro de 2019, 15 h\n",
      "\n",
      "Anfiteatro Geral da Botânica\n",
      "Instituto de Biociências - Universidade de São Paulo\n"
     ]
    }
   ],
   "source": [
    "import pytesseract as ocr\n",
    "\n",
    "from PIL import Image\n",
    "\n",
    "\n",
    "phrase = ocr.image_to_string(Image.open('../data/gorila31.png'), lang='por')\n",
    "print(phrase)"
   ]
  },
  {
   "cell_type": "code",
   "execution_count": 32,
   "metadata": {},
   "outputs": [
    {
     "name": "stdout",
     "output_type": "stream",
     "text": [
      "Qual é afinal a relação entre Filosofia e Ciências Biológicas?\n"
     ]
    }
   ],
   "source": [
    "title = extract_title_from_quotes(phrase)"
   ]
  },
  {
   "cell_type": "code",
   "execution_count": 40,
   "metadata": {},
   "outputs": [],
   "source": [
    "day, month, year = extract_date(phrase)"
   ]
  },
  {
   "cell_type": "code",
   "execution_count": 41,
   "metadata": {},
   "outputs": [],
   "source": [
    "time = extract_time(phrase)"
   ]
  },
  {
   "cell_type": "code",
   "execution_count": 45,
   "metadata": {},
   "outputs": [],
   "source": [
    "place = extract_place(phrase)"
   ]
  },
  {
   "cell_type": "code",
   "execution_count": 46,
   "metadata": {},
   "outputs": [
    {
     "data": {
      "text/plain": [
       "'Anfiteatro Geral da Botânica'"
      ]
     },
     "execution_count": 46,
     "metadata": {},
     "output_type": "execute_result"
    }
   ],
   "source": [
    "place"
   ]
  },
  {
   "cell_type": "code",
   "execution_count": null,
   "metadata": {},
   "outputs": [],
   "source": []
  }
 ],
 "metadata": {
  "kernelspec": {
   "display_name": "Python 3",
   "language": "python",
   "name": "python3"
  },
  "language_info": {
   "codemirror_mode": {
    "name": "ipython",
    "version": 3
   },
   "file_extension": ".py",
   "mimetype": "text/x-python",
   "name": "python",
   "nbconvert_exporter": "python",
   "pygments_lexer": "ipython3",
   "version": "3.6.5"
  }
 },
 "nbformat": 4,
 "nbformat_minor": 4
}
