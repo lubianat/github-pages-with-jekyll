{
 "cells": [
  {
   "cell_type": "markdown",
   "metadata": {},
   "source": [
    "Com o novo sistema do ICB, temos agora os arquivos .ics disponibilizados pelo instituto. Yay, sucesso.\n",
    "\n",
    "Para raspar isso de forma simples, vamos usar o Selenium para rodar o Python headless"
   ]
  },
  {
   "cell_type": "code",
   "execution_count": 33,
   "metadata": {},
   "outputs": [],
   "source": [
    "from selenium import webdriver\n",
    "from selenium.webdriver.common.keys import Keys\n",
    "\n",
    "driver = webdriver.Firefox()\n",
    "driver.get(\"https://ww3.icb.usp.br/calendario-de-eventos/mes/\")\n",
    "\n"
   ]
  },
  {
   "cell_type": "code",
   "execution_count": 36,
   "metadata": {},
   "outputs": [],
   "source": [
    "event_month = driver.find_elements_by_xpath('//*[@id=\"tribe-bar-date\"]')[0]\n",
    "event_month.clear()\n",
    "event_month.send_keys(\"04/2020\")\n",
    "event_button = driver.find_elements_by_xpath('/html/body/div[2]/div/div[2]/div/div[2]/div[2]/form/div/div/div/div[3]/input')[0]\n",
    "event_button.click()\n",
    "download_button = driver.find_elements_by_xpath('/html/body/div[2]/div/div[2]/div/div[2]/div[3]/a')[0]\n",
    "download_button.click()"
   ]
  },
  {
   "cell_type": "markdown",
   "metadata": {},
   "source": [
    "Hm, o site tem um bug que só baixa os eventos de janeiro. Fiz o report em 30/01/2020. Veremos.  \n"
   ]
  },
  {
   "cell_type": "code",
   "execution_count": 13,
   "metadata": {},
   "outputs": [
    {
     "data": {
      "text/plain": [
       "[<selenium.webdriver.firefox.webelement.FirefoxWebElement (session=\"ef0c730f-0721-407b-8c8c-0195c33d6b05\", element=\"bdec40ae-070f-4056-9e34-a043a949601f\")>]"
      ]
     },
     "execution_count": 13,
     "metadata": {},
     "output_type": "execute_result"
    }
   ],
   "source": []
  },
  {
   "cell_type": "code",
   "execution_count": null,
   "metadata": {},
   "outputs": [],
   "source": []
  }
 ],
 "metadata": {
  "kernelspec": {
   "display_name": "Python 3",
   "language": "python",
   "name": "python3"
  },
  "language_info": {
   "codemirror_mode": {
    "name": "ipython",
    "version": 3
   },
   "file_extension": ".py",
   "mimetype": "text/x-python",
   "name": "python",
   "nbconvert_exporter": "python",
   "pygments_lexer": "ipython3",
   "version": "3.6.5"
  }
 },
 "nbformat": 4,
 "nbformat_minor": 4
}
